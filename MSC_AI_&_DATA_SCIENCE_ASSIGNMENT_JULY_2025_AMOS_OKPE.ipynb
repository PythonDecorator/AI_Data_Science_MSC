{
  "nbformat": 4,
  "nbformat_minor": 0,
  "metadata": {
    "colab": {
      "provenance": [],
      "authorship_tag": "ABX9TyOx64Q7p72UciwIzRR2XHF2",
      "include_colab_link": true
    },
    "kernelspec": {
      "name": "python3",
      "display_name": "Python 3"
    },
    "language_info": {
      "name": "python"
    }
  },
  "cells": [
    {
      "cell_type": "markdown",
      "metadata": {
        "id": "view-in-github",
        "colab_type": "text"
      },
      "source": [
        "<a href=\"https://colab.research.google.com/github/PythonDecorator/AI_Data_Science_MSC/blob/Assignment-2025-july-data-processing/MSC_AI_%26_DATA_SCIENCE_ASSIGNMENT_JULY_2025_AMOS_OKPE.ipynb\" target=\"_parent\"><img src=\"https://colab.research.google.com/assets/colab-badge.svg\" alt=\"Open In Colab\"/></a>"
      ]
    },
    {
      "cell_type": "markdown",
      "source": [
        "\n",
        "\n",
        "# MSC AI & DATA SCIENCE ASSIGNMENT\n",
        "\n",
        "---\n",
        "\n",
        "\n",
        "> **Module**: MSc – Introduction to Programming for AI and Data Science  \n",
        "**Assignment Title**: Data Pre-processing  \n",
        "**Student Name**: Amos Orevaoghene Okpe  \n",
        "\n",
        "---\n",
        "\n",
        "<br>\n",
        "\n",
        "<p align=\"center\">\n",
        "  <img src=\"https://res.cloudinary.com/dhqdentd8/image/upload/v1751731557/intro_image_gqdvqj.jpg\" width=\"90%\" alt=\"Data Science Icon\"/>\n",
        "</p>\n",
        "\n",
        "## 📘 Introduction\n",
        "\n",
        "This notebook presents a complete solution to the course assignment titled **\"Customer Data Pre-processing\"** for the module *Introduction to Programming for Artificial Intelligence and Data Science*.\n",
        "\n",
        "The objective is to:\n",
        "- Process raw customer data exported from a company's system.\n",
        "- Clean, restructure, and transform the data into a nested JSON format.\n",
        "- Generate filtered subsets and calculate custom metrics.\n",
        "- Visualize key patterns using **Pandas** and **Seaborn**.\n",
        "\n",
        "All tasks are performed using **Python’s standard libraries**, and the output files and visualizations are saved as required by the submission guidelines.\n"
      ],
      "metadata": {
        "id": "qdI-41FxuGP9"
      }
    },
    {
      "cell_type": "markdown",
      "source": [
        "## 📂 About the Dataset\n",
        "\n",
        "The dataset `acw_user_data.csv` contains customer records exported from a legacy company system. Each row represents a customer and includes a range of attributes such as:\n",
        "\n",
        "- **Personal Information**: First name, surname, marital status, dependants, etc.\n",
        "- **Vehicle Details**: Make, model, year, and type of vehicle.\n",
        "- **Credit Card Info**: Card number, start and end date, IBAN, and security code.\n",
        "- **Address Details**: Main address, city, and postcode.\n",
        "- **Employment & Commute**: Employer name, salary, and commute distance.\n",
        "\n",
        "The dataset is structured as a **flat CSV file**, which is not suitable for direct analysis. A major part of this coursework is to **transform this flat structure into a nested JSON representation**, clean potential data issues, and\n",
        "derive useful additional metrics.\n",
        "\n",
        "### 📌 Source of Data\n",
        "This is a **synthetic dataset** provided as part of the MSc module *\"Introduction to Programming for Artificial Intelligence and Data Science\"*. It was designed for academic purposes and simulates real-world customer data, including potential formatting inconsistencies and relationships across fields.\n",
        "<br>\n",
        "\n",
        "---\n"
      ],
      "metadata": {
        "id": "GHdAW3MzRBV5"
      }
    },
    {
      "cell_type": "markdown",
      "source": [
        "# Import Statements\n"
      ],
      "metadata": {
        "id": "cCHuoY72XpC9"
      }
    },
    {
      "cell_type": "code",
      "execution_count": 1,
      "metadata": {
        "id": "E_91wYTUq1jy"
      },
      "outputs": [],
      "source": [
        "# Importing standard Python libraries for data processing and file handling\n",
        "import csv\n",
        "import json\n",
        "import os\n",
        "import sys\n",
        "from datetime import datetime"
      ]
    },
    {
      "cell_type": "markdown",
      "source": [
        "> 📁 **Working from Google Drive**\n",
        "\n",
        "If you're running this notebook on **Google Colab**, you'll need to **mount your Google Drive** to access the dataset (`acw_user_data.csv`).\n",
        "\n",
        "If you're **not using Google Drive**, feel free to **skip or comment out** the next cell."
      ],
      "metadata": {
        "id": "ZDXg8B_oblce"
      }
    },
    {
      "cell_type": "code",
      "source": [
        "# Mount Google Drive (only needed if you're running from Google Colab and using Drive)\n",
        "from google.colab import drive\n",
        "drive.mount('/content/drive')"
      ],
      "metadata": {
        "colab": {
          "base_uri": "https://localhost:8080/"
        },
        "id": "UQ8BeWiTRJtP",
        "outputId": "4ac10881-3aeb-4ca3-b19b-3a2e12f7583c"
      },
      "execution_count": 2,
      "outputs": [
        {
          "output_type": "stream",
          "name": "stdout",
          "text": [
            "Mounted at /content/drive\n"
          ]
        }
      ]
    }
  ]
}