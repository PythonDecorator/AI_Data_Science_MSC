{
  "nbformat": 4,
  "nbformat_minor": 0,
  "metadata": {
    "colab": {
      "provenance": [],
      "authorship_tag": "ABX9TyO815Mcfsane0Vn4i/zOxgi",
      "include_colab_link": true
    },
    "kernelspec": {
      "name": "python3",
      "display_name": "Python 3"
    },
    "language_info": {
      "name": "python"
    }
  },
  "cells": [
    {
      "cell_type": "markdown",
      "metadata": {
        "id": "view-in-github",
        "colab_type": "text"
      },
      "source": [
        "<a href=\"https://colab.research.google.com/github/PythonDecorator/AI_Data_Science_MSC/blob/Assignment-2025-july-data-processing/MSC_AI_%26_DATA_SCIENCE_ASSIGNMENT_JULY_2025_AMOS_OKPE.ipynb\" target=\"_parent\"><img src=\"https://colab.research.google.com/assets/colab-badge.svg\" alt=\"Open In Colab\"/></a>"
      ]
    },
    {
      "cell_type": "markdown",
      "source": [
        "\n",
        "\n",
        "# 📈 MSC AI & DATA SCIENCE ASSIGNMENT\n",
        "\n",
        "---\n",
        "\n",
        "\n",
        "> **Module**: MSc – Introduction to Programming for AI and Data Science  \n",
        "**Assignment Title**: Data Pre-processing  \n",
        "**Student Name**: Amos Orevaoghene Okpe  \n",
        "**Start Date**: July 2025\n",
        "\n",
        "---\n",
        "\n",
        "<br>\n",
        "\n",
        "<p align=\"center\">\n",
        "  <img src=\"https://res.cloudinary.com/dhqdentd8/image/upload/v1751731557/intro_image_gqdvqj.jpg\" width=\"100%\" alt=\"Data Science Icon\"/>\n",
        "</p>\n",
        "\n",
        "# 📚 Table of Contents\n",
        "\n",
        "1. [Introduction](#introduction)\n",
        "2. [Import Statements](#import-statements)\n",
        "3. [Google Drive Mount](#mount-drive)\n",
        "4. [Data Processing](#data-processing)\n",
        "   - [Task 1: Load the Dataset](#task-1-load-the-dataset)\n",
        "   - [Task 2: Convert Flat Records into Nested Structures](#convert-flat-csv)\n",
        "   - [Task 3: Fix Dependants Column](#fix-dependants-column)\n",
        "   - [Task 4: Save to processed.json](#task-4-save-to-processedjson)\n",
        "   - [Task 5: Save Retired and Employed Customers](#task-5-save-retired-and-employed-customers)\n",
        "   - [Task 6: Flag Invalid Credit Cards](#task-6-flag-invalid-credit-cards)\n",
        "   - [Task 7: Calculate Salary-Commute and Save Sorted Data](#task-7-calculate-salary-commute-and-save-sorted-data)\n",
        "5. [Data Visualisation](#data-visualisation)\n",
        "   - [Task 1a: Mean Salary](#task-1a-mean-salary)\n",
        "   - [Task 1b: Median Age](#task-1b-median-age)\n",
        "   - [Task 2a: Age Distribution (Bin Width 5)](#task-2a-age-distribution-bin-width-5)\n",
        "   - [Task 2b: Dependants Distribution](#task-2b-dependants-distribution)\n",
        "   - [Task 2c: Age by Marital Status](#task-2c-age-by-marital-status)\n",
        "   - [Task 3a: Commute vs Salary](#task-3a-commute-vs-salary)\n",
        "   - [Task 3b: Age vs Salary](#task-3b-age-vs-salary)\n",
        "   - [Task 3c: Age vs Salary by Dependants](#task-3c-age-vs-salary-by-dependants)\n",
        "6. [Save All Plots](#save-all-plots)\n",
        "7. [Conclusion & Reflection](#conclusion--reflection)\n",
        "\n"
      ],
      "metadata": {
        "id": "qdI-41FxuGP9"
      }
    },
    {
      "cell_type": "markdown",
      "source": [
        "<a name=\"introduction\"></a>\n",
        "# 📘 Introduction\n",
        "\n",
        "This notebook presents a complete solution to the course assignment titled **\"Customer Data Pre-processing\"** for the module *Introduction to Programming for Artificial Intelligence and Data Science*.\n",
        "\n",
        "The objective is to:\n",
        "- Process raw customer data exported from a company's system.\n",
        "- Clean, restructure, and transform the data into a nested JSON format.\n",
        "- Generate filtered subsets and calculate custom metrics.\n",
        "- Visualize key patterns using **Pandas** and **Seaborn**.\n",
        "\n",
        "All tasks are performed using **Python’s standard libraries**, and the output files and visualizations are saved as required by the submission guidelines."
      ],
      "metadata": {
        "id": "VrAadPEhzdvm"
      }
    },
    {
      "cell_type": "markdown",
      "source": [
        "## 📂 About the Dataset\n",
        "\n",
        "The dataset `acw_user_data.csv` contains customer records exported from a legacy company system. Each row represents a customer and includes a range of attributes such as:\n",
        "\n",
        "- **Personal Information**: First name, surname, marital status, dependants, etc.\n",
        "- **Vehicle Details**: Make, model, year, and type of vehicle.\n",
        "- **Credit Card Info**: Card number, start and end date, IBAN, and security code.\n",
        "- **Address Details**: Main address, city, and postcode.\n",
        "- **Employment & Commute**: Employer name, salary, and commute distance.\n",
        "\n",
        "The dataset is structured as a **flat CSV file**, which is not suitable for direct analysis. A major part of this coursework is to **transform this flat structure into a nested JSON representation**, clean potential data issues, and\n",
        "derive useful additional metrics.\n",
        "\n",
        "## 📌 Source of Data\n",
        "This is a **synthetic dataset** provided as part of the MSc module *\"Introduction to Programming for Artificial Intelligence and Data Science\"*. It was designed for academic purposes and simulates real-world customer data, including potential formatting inconsistencies and relationships across fields.\n",
        "<br>\n",
        "\n",
        "---\n"
      ],
      "metadata": {
        "id": "GHdAW3MzRBV5"
      }
    },
    {
      "cell_type": "markdown",
      "source": [
        "\n",
        "\n",
        "<p align=\"center\">\n",
        "  <img src=\"https://res.cloudinary.com/dhqdentd8/image/upload/v1752880346/intro_image_2_yffflh.jpg\n",
        "\" width=\"100%\" alt=\"Python Data Science Image\"/>\n",
        "</p>\n",
        "\n",
        "---"
      ],
      "metadata": {
        "id": "re9f61Uj0TRf"
      }
    },
    {
      "cell_type": "markdown",
      "source": [
        "<a name=\"import-statements\"></a>\n",
        "# Import Statements\n"
      ],
      "metadata": {
        "id": "cCHuoY72XpC9"
      }
    },
    {
      "cell_type": "code",
      "execution_count": 1,
      "metadata": {
        "id": "E_91wYTUq1jy"
      },
      "outputs": [],
      "source": [
        "# Importing standard Python libraries for data processing and file handling\n",
        "import csv\n",
        "import json\n",
        "import os\n",
        "import sys\n",
        "from datetime import datetime\n",
        "\n",
        "import pandas as pd\n",
        "import seaborn as sns\n",
        "import matplotlib.pyplot as plt\n",
        "\n",
        "# This is used to display markdown programatically\n",
        "from IPython.display import Markdown, display"
      ]
    },
    {
      "cell_type": "markdown",
      "source": [
        "<a name=\"mount-drive\"></a>\n",
        "# Mount Google Drive\n",
        "\n",
        "> 📁 **Working from Google Drive**\n",
        "\n",
        "If you're running this notebook on **Google Colab**, you'll need to **mount your Google Drive** to access the dataset (`acw_user_data.csv`).\n",
        "\n",
        "If you're **not using Google Drive**, feel free to **skip or comment out** the next cell."
      ],
      "metadata": {
        "id": "ZDXg8B_oblce"
      }
    },
    {
      "cell_type": "code",
      "source": [
        "# Mount Google Drive (only needed if you're running from Google Colab and using Drive)\n",
        "from google.colab import drive\n",
        "drive.mount('/content/drive')"
      ],
      "metadata": {
        "colab": {
          "base_uri": "https://localhost:8080/"
        },
        "id": "UQ8BeWiTRJtP",
        "outputId": "5727b9ca-d98e-4bfe-ae37-e8753cd4d19f"
      },
      "execution_count": 2,
      "outputs": [
        {
          "output_type": "stream",
          "name": "stdout",
          "text": [
            "Mounted at /content/drive\n"
          ]
        }
      ]
    },
    {
      "cell_type": "markdown",
      "source": [
        "<a name=\"data-processing\"></a>\n",
        "#  Data Processing"
      ],
      "metadata": {
        "id": "H0UNlHrCeCz-"
      }
    },
    {
      "cell_type": "markdown",
      "source": [
        "<a name=\"task-1-load-the-dataset\"></a>\n",
        "## 🧮 Task 1 - Load the Dataset\n",
        ">  Read the provided ACW Data using the csv library\n",
        "\n",
        "The first task involves loading the flat CSV file `acw_user_data.csv` using the built-in `csv` module. This will allow us to parse the file into a list of dictionaries for easier processing in subsequent tasks.\n",
        "\n",
        "The data will be previewed to confirm correct parsing.\n",
        "\n",
        " - Replace the line below with the correct file path\n",
        "```\n",
        "file_path = '/content/drive/MyDrive/University of Hull/Assignment-Data-Processing/acw_user_data.csv'\n",
        "```"
      ],
      "metadata": {
        "id": "Y2KCos-eeiiC"
      }
    },
    {
      "cell_type": "code",
      "source": [
        "# Replace the line below with the correct file path..\n",
        "file_path = '/content/drive/MyDrive/University of Hull/Assignment-Data-Processing/acw_user_data.csv'"
      ],
      "metadata": {
        "id": "keYaUfxte9Ds"
      },
      "execution_count": 3,
      "outputs": []
    },
    {
      "cell_type": "code",
      "source": [
        "acw_customer_records = []  # this will hold all records\n",
        "headers = [] # this will hold the headers of our acw_customer_records\n",
        "\n",
        "# Open the CSV file\n",
        "with open(file_path, mode='r') as file:\n",
        "    reader = csv.DictReader(file)\n",
        "    for row in reader:\n",
        "        acw_customer_records.append(row)\n",
        "        headers = list(row.keys())"
      ],
      "metadata": {
        "id": "XX2RviEhcuhs"
      },
      "execution_count": 4,
      "outputs": []
    },
    {
      "cell_type": "markdown",
      "source": [
        " - Let's take a look at the headers, first and last row of out data."
      ],
      "metadata": {
        "id": "gaTr1KuvxdGQ"
      }
    },
    {
      "cell_type": "code",
      "source": [
        "# preview our data, to get some insight\n",
        "print(f\"Number of rows (records): {len(acw_customer_records)}\")\n",
        "print(f\"Number of columns: {len(headers)}\")\n",
        "print(f\"Column headers:\")\n",
        "\n",
        "for i, header in enumerate(headers, start=1):\n",
        "    print(f\"{i:2}. {header}\")"
      ],
      "metadata": {
        "colab": {
          "base_uri": "https://localhost:8080/"
        },
        "id": "0AGkstcznj0l",
        "outputId": "51f355cd-a25f-4c88-81b3-d8aaf7d15ab6"
      },
      "execution_count": 5,
      "outputs": [
        {
          "output_type": "stream",
          "name": "stdout",
          "text": [
            "Number of rows (records): 1000\n",
            "Number of columns: 23\n",
            "Column headers:\n",
            " 1. Address Street\n",
            " 2. Address City\n",
            " 3. Address Postcode\n",
            " 4. Age (Years)\n",
            " 5. Distance Commuted to Work (Km)\n",
            " 6. Employer Company\n",
            " 7. Credit Card Start Date\n",
            " 8. Credit Card Expiry Date\n",
            " 9. Credit Card Number\n",
            "10. Credit Card CVV\n",
            "11. Dependants\n",
            "12. First Name\n",
            "13. Bank IBAN\n",
            "14. Last Name\n",
            "15. Marital Status\n",
            "16. Yearly Pension (Dollar)\n",
            "17. Retired\n",
            "18. Yearly Salary (Dollar)\n",
            "19. Sex\n",
            "20. Vehicle Make\n",
            "21. Vehicle Model\n",
            "22. Vehicle Year\n",
            "23. Vehicle Type\n"
          ]
        }
      ]
    },
    {
      "cell_type": "code",
      "source": [
        "# Get first and last row\n",
        "first_row = acw_customer_records[0]\n",
        "last_row = acw_customer_records[-1]\n",
        "\n",
        "print(f\"First row: {first_row}\")\n",
        "print(f\"Last row: {last_row}\")"
      ],
      "metadata": {
        "colab": {
          "base_uri": "https://localhost:8080/"
        },
        "id": "PDyGZDnEzgec",
        "outputId": "8ecf3ff2-891c-4c4e-a7cd-3e82894545f0"
      },
      "execution_count": 6,
      "outputs": [
        {
          "output_type": "stream",
          "name": "stdout",
          "text": [
            "First row: {'Address Street': '70 Lydia isle', 'Address City': 'Lake Conor', 'Address Postcode': 'S71 7XZ', 'Age (Years)': '89', 'Distance Commuted to Work (Km)': '0', 'Employer Company': 'N/A', 'Credit Card Start Date': '08/18', 'Credit Card Expiry Date': '11/27', 'Credit Card Number': '676373692463', 'Credit Card CVV': '875', 'Dependants': '3', 'First Name': 'Kieran', 'Bank IBAN': 'GB62PQKB71416034141571', 'Last Name': 'Wilson', 'Marital Status': 'married or civil partner', 'Yearly Pension (Dollar)': '7257', 'Retired': 'True', 'Yearly Salary (Dollar)': '72838', 'Sex': 'Male', 'Vehicle Make': 'Hyundai', 'Vehicle Model': 'Bonneville', 'Vehicle Year': '2009', 'Vehicle Type': 'Pickup'}\n",
            "Last row: {'Address Street': 'Flat 9 Mohamed route', 'Address City': 'West Glen', 'Address Postcode': 'LL3M 4WS', 'Age (Years)': '80', 'Distance Commuted to Work (Km)': '0', 'Employer Company': 'N/A', 'Credit Card Start Date': '12/14', 'Credit Card Expiry Date': '01/16', 'Credit Card Number': '180020306382110', 'Credit Card CVV': '903', 'Dependants': '1', 'First Name': 'Sheila', 'Bank IBAN': 'GB45ORXV49380519147072', 'Last Name': 'Russell', 'Marital Status': 'single', 'Yearly Pension (Dollar)': '22869', 'Retired': 'True', 'Yearly Salary (Dollar)': '25788', 'Sex': 'Female', 'Vehicle Make': 'Geo', 'Vehicle Model': 'S7', 'Vehicle Year': '1993', 'Vehicle Type': 'Van/Minivan'}\n"
          ]
        }
      ]
    },
    {
      "cell_type": "markdown",
      "source": [
        " Formatting the result above better using `Markdown` and `display` from `IPython`\n",
        "> I also included the data types for each column alongside the first and last row values so it’s easier to understand the data at a glance."
      ],
      "metadata": {
        "id": "bBoIUSobELRd"
      }
    },
    {
      "cell_type": "code",
      "source": [
        "# Build markdown table string\n",
        "md = \"|**Column** | **First Row** | **Last Row** | **Data Type** |\\n\"\n",
        "md += \"|------------|----------------|---------------|--------------|\\n\"\n",
        "\n",
        "for field in headers:\n",
        "    first_val = first_row.get(field, \"\")\n",
        "    last_val = last_row.get(field, \"\")\n",
        "    dtype = type(first_val).__name__  # Get data type name\n",
        "    md += f\"|{field} | {str(first_val).strip()} | {str(last_val).strip()} | {dtype} |\\n\"\n",
        "\n",
        "# Display as rendered markdown\n",
        "display(Markdown(md))\n",
        "\n",
        "\n"
      ],
      "metadata": {
        "colab": {
          "base_uri": "https://localhost:8080/",
          "height": 805
        },
        "id": "XAqKOMLLyfzj",
        "outputId": "482a627f-98d3-4bd4-d3a1-67e728e3cefe"
      },
      "execution_count": 7,
      "outputs": [
        {
          "output_type": "display_data",
          "data": {
            "text/plain": [
              "<IPython.core.display.Markdown object>"
            ],
            "text/markdown": "|**Column** | **First Row** | **Last Row** | **Data Type** |\n|------------|----------------|---------------|--------------|\n|Address Street | 70 Lydia isle | Flat 9 Mohamed route | str |\n|Address City | Lake Conor | West Glen | str |\n|Address Postcode | S71 7XZ | LL3M 4WS | str |\n|Age (Years) | 89 | 80 | str |\n|Distance Commuted to Work (Km) | 0 | 0 | str |\n|Employer Company | N/A | N/A | str |\n|Credit Card Start Date | 08/18 | 12/14 | str |\n|Credit Card Expiry Date | 11/27 | 01/16 | str |\n|Credit Card Number | 676373692463 | 180020306382110 | str |\n|Credit Card CVV | 875 | 903 | str |\n|Dependants | 3 | 1 | str |\n|First Name | Kieran | Sheila | str |\n|Bank IBAN | GB62PQKB71416034141571 | GB45ORXV49380519147072 | str |\n|Last Name | Wilson | Russell | str |\n|Marital Status | married or civil partner | single | str |\n|Yearly Pension (Dollar) | 7257 | 22869 | str |\n|Retired | True | True | str |\n|Yearly Salary (Dollar) | 72838 | 25788 | str |\n|Sex | Male | Female | str |\n|Vehicle Make | Hyundai | Geo | str |\n|Vehicle Model | Bonneville | S7 | str |\n|Vehicle Year | 2009 | 1993 | str |\n|Vehicle Type | Pickup | Van/Minivan | str |\n"
          },
          "metadata": {}
        }
      ]
    },
    {
      "cell_type": "markdown",
      "source": [
        "> ❌ From the above output we can see that the data types are all string, hence we will need to do some data casting to convert relevant fields like age, yearly salary, ect to float or integer, for easy manipulation and calculation later."
      ],
      "metadata": {
        "id": "L0JUrhfn1NVk"
      }
    },
    {
      "cell_type": "markdown",
      "source": [
        "<a name=\"convert-flat-csv\"></a>\n",
        "## 🧮 Task 2 – Convert Flat CSV Records into Nested Structures\n",
        "\n",
        "The raw data read from the CSV file is completely flat, meaning each customer's attributes are stored as separate keys. To better represent the data and prepare it for JSON export, we will group related fields into **nested dictionaries**, including:\n",
        "\n",
        "- 📦 **Vehicle** → `make`, `model`, `year`, `type`\n",
        "- 💳 **Credit Card** → `start_date`, `end_date`, `number`, `security_code`, `iban`\n",
        "- 🏠 **Address** → `address`, `city`, `postcode`\n",
        "\n",
        "All other fields remain at the top level. Data types will also be cast appropriately (e.g., integers for year, floats for salary).\n",
        "\n"
      ],
      "metadata": {
        "id": "AYVXX5NqmD-7"
      }
    },
    {
      "cell_type": "code",
      "source": [
        "# Transform flat records into nested dictionaries using correct keys from the result above\n",
        "# Convert from str to correct data types\n",
        "\n",
        "def transform_record(customer: dict):\n",
        "    \"\"\"\n",
        "    Accepts a dict of a customer record and returns a dictionary with nested structure.\n",
        "    Converts flat records to nested dictionaries.\n",
        "    Returns a dictionary or None if any error occurs during conversion.\n",
        "    \"\"\"\n",
        "    try:\n",
        "        # Convert numeric fields with appropriate types\n",
        "        customer['Vehicle Year'] = int(customer.get('Vehicle Year', 0))\n",
        "        customer['Yearly Salary (Dollar)'] = float(customer.get('Yearly Salary (Dollar)', 0))\n",
        "        customer['Distance Commuted to Work (Km)'] = float(customer.get('Distance Commuted to Work (Km)', 0))\n",
        "        customer['Age (Years)'] = int(customer.get('Age (Years)', 0))\n",
        "        customer['Yearly Pension (Dollar)'] = float(customer.get('Yearly Pension (Dollar)', 0))\n",
        "\n",
        "        customer_employer_compnany = customer.get(\"Employer Company\", \"\")\n",
        "\n",
        "        # Convert Employer Company to None if N/A\n",
        "        customer['Employer Company'] = customer_employer_compnany.strip() if customer_employer_compnany and customer_employer_compnany.strip().upper() != \"N/A\" else None\n",
        "\n",
        "        # Build nested structure\n",
        "        customer_record = {\n",
        "            \"first_name\": customer.get(\"First Name\"),\n",
        "            \"last_name\": customer.get(\"Last Name\"),\n",
        "            \"sex\": customer.get(\"Sex\"),\n",
        "            \"age\": customer['Age (Years)'],\n",
        "            \"marital_status\": customer.get(\"Marital Status\"),\n",
        "            \"dependants\": customer['Dependants'],\n",
        "            \"employer\": customer.get(\"Employer Company\"),\n",
        "            \"retired\": customer.get(\"Retired\") == \"True\",  # convert to actual boolean\n",
        "            \"salary\": customer['Yearly Salary (Dollar)'],\n",
        "            \"pension\": customer['Yearly Pension (Dollar)'],\n",
        "            \"commute_distance\": customer['Distance Commuted to Work (Km)'],\n",
        "\n",
        "            \"vehicle\": {\n",
        "                \"make\": customer.get(\"Vehicle Make\"),\n",
        "                \"model\": customer.get(\"Vehicle Model\"),\n",
        "                \"year\": customer['Vehicle Year'],\n",
        "                \"type\": customer.get(\"Vehicle Type\")\n",
        "            },\n",
        "            \"credit_card\": {\n",
        "                \"start_date\": customer.get(\"Credit Card Start Date\"),\n",
        "                \"end_date\": customer.get(\"Credit Card Expiry Date\"),\n",
        "                \"number\": customer.get(\"Credit Card Number\"),\n",
        "                \"security_code\": customer.get(\"Credit Card CVV\"),\n",
        "                \"iban\": customer.get(\"Bank IBAN\")\n",
        "            },\n",
        "            \"address\": {\n",
        "                \"address\": customer.get(\"Address Street\"),\n",
        "                \"city\": customer.get(\"Address City\"),\n",
        "                \"postcode\": customer.get(\"Address Postcode\")\n",
        "            }\n",
        "        }\n",
        "\n",
        "        return customer_record\n",
        "\n",
        "    except Exception as e:\n",
        "        print(f\"Error transforming row: {e}\")\n",
        "        return None\n"
      ],
      "metadata": {
        "id": "Oszu1DCb4LMi"
      },
      "execution_count": 8,
      "outputs": []
    },
    {
      "cell_type": "markdown",
      "source": [
        "> Cleaning the 'Dependants' Column\n",
        "\n",
        "The `dependants` field contains some missing or empty values (`\"\"`, `\" \"`), which may cause issues during type conversion. These values are replaced with a meaningful default value (`0`). A list of the row numbers where such corrections occur is printed as required.\n"
      ],
      "metadata": {
        "id": "9zlr4q4QPG-m"
      }
    },
    {
      "cell_type": "markdown",
      "source": [
        "<a name=\"fix-dependants-column\"></a>\n",
        "## 🧮 Task 3 - Fix Dependants Column"
      ],
      "metadata": {
        "id": "Ez7aB56uUQXm"
      }
    },
    {
      "cell_type": "code",
      "source": [
        "# Fix dependants column and log rows with the issue\n",
        "fixed_dependants = []\n",
        "\n",
        "for index, row in enumerate(acw_customer_records):\n",
        "    val = row.get(\"Dependants\", 0)\n",
        "    if val == \"\":\n",
        "        row['Dependants'] = 0\n",
        "        fixed_dependants.append(index)\n",
        "    else:\n",
        "        row['Dependants'] = int(row.get('Dependants', 0)) if row.get('Dependants') else 0\n",
        "\n",
        "print(f\"✅ Fixed rows for dependants: {fixed_dependants}\")"
      ],
      "metadata": {
        "colab": {
          "base_uri": "https://localhost:8080/"
        },
        "id": "I4OGaRQDPXvW",
        "outputId": "784954c8-774c-4c38-97d5-56f749fec8fb"
      },
      "execution_count": 9,
      "outputs": [
        {
          "output_type": "stream",
          "name": "stdout",
          "text": [
            "✅ Fixed rows for dependants: [21, 109, 179, 205, 270, 272, 274, 358, 460, 468, 579, 636, 679, 725, 822, 865, 917, 931, 983]\n"
          ]
        }
      ]
    },
    {
      "cell_type": "markdown",
      "source": [
        "- Lets view the `head(top 5)` and `tail(bottom 5)` of our `acw_customer_records` for only the dependants column, to make sure the dependant data have been fixed correctly.\n"
      ],
      "metadata": {
        "id": "kn5rWQPktc5k"
      }
    },
    {
      "cell_type": "code",
      "source": [
        "# head with the data type\n",
        "for idx, row in enumerate(acw_customer_records[:5]):\n",
        "    print(f\"Row {idx}: {row['Dependants']} ({type(row['Dependants'])})\")\n"
      ],
      "metadata": {
        "colab": {
          "base_uri": "https://localhost:8080/"
        },
        "id": "5ZdSfPSPtw0r",
        "outputId": "f95d1945-1141-4219-97f6-e7d85222c13f"
      },
      "execution_count": 10,
      "outputs": [
        {
          "output_type": "stream",
          "name": "stdout",
          "text": [
            "Row 0: 3 (<class 'int'>)\n",
            "Row 1: 1 (<class 'int'>)\n",
            "Row 2: 1 (<class 'int'>)\n",
            "Row 3: 2 (<class 'int'>)\n",
            "Row 4: 2 (<class 'int'>)\n"
          ]
        }
      ]
    },
    {
      "cell_type": "code",
      "source": [
        "# tail with the data type\n",
        "for idx, row in enumerate(acw_customer_records[-5:]):\n",
        "    print(f\"Row {idx}: {row['Dependants']} ({type(row['Dependants'])})\")"
      ],
      "metadata": {
        "colab": {
          "base_uri": "https://localhost:8080/"
        },
        "id": "9fsHeACvwIvB",
        "outputId": "8e94365f-93bd-4cb6-f2cf-2f40190fed67"
      },
      "execution_count": 11,
      "outputs": [
        {
          "output_type": "stream",
          "name": "stdout",
          "text": [
            "Row 0: 2 (<class 'int'>)\n",
            "Row 1: 2 (<class 'int'>)\n",
            "Row 2: 1 (<class 'int'>)\n",
            "Row 3: 3 (<class 'int'>)\n",
            "Row 4: 1 (<class 'int'>)\n"
          ]
        }
      ]
    },
    {
      "cell_type": "markdown",
      "source": [
        "- I also want to check one of the fixed dependant index `datatypes` to make sure it's int."
      ],
      "metadata": {
        "id": "WkSGfG71whgd"
      }
    },
    {
      "cell_type": "code",
      "source": [
        "print(f\"Row {fixed_dependants[0]}: {acw_customer_records[fixed_dependants[0]]['Dependants']} ({type(acw_customer_records[fixed_dependants[0]]['Dependants'])})\")"
      ],
      "metadata": {
        "colab": {
          "base_uri": "https://localhost:8080/"
        },
        "id": "qaGUv_Zcvr9N",
        "outputId": "e4c678a0-1a71-43ed-db47-dd4584e79dc9"
      },
      "execution_count": 12,
      "outputs": [
        {
          "output_type": "stream",
          "name": "stdout",
          "text": [
            "Row 21: 0 (<class 'int'>)\n"
          ]
        }
      ]
    },
    {
      "cell_type": "markdown",
      "source": [
        "✅ From the above the dependant field have been properly fixed and converted to integer"
      ],
      "metadata": {
        "id": "mf8WNzEtw5eE"
      }
    },
    {
      "cell_type": "code",
      "source": [
        "# Apply the transformation to all records\n",
        "transformed_acw_customer_records = [transform_record(row) for row in acw_customer_records if transform_record(row)]\n",
        "\n",
        "# Preview result\n",
        "print(\"Example Transformed ACW Customer Record:\")\n",
        "print(json.dumps(transformed_acw_customer_records[1], indent=2))"
      ],
      "metadata": {
        "colab": {
          "base_uri": "https://localhost:8080/"
        },
        "id": "lCpq1RQS6FXI",
        "outputId": "38316363-b8c5-456b-ae28-589119d386e7"
      },
      "execution_count": 13,
      "outputs": [
        {
          "output_type": "stream",
          "name": "stdout",
          "text": [
            "Example Transformed ACW Customer Record:\n",
            "{\n",
            "  \"first_name\": \"Jonathan\",\n",
            "  \"last_name\": \"Thomas\",\n",
            "  \"sex\": \"Male\",\n",
            "  \"age\": 46,\n",
            "  \"marital_status\": \"married or civil partner\",\n",
            "  \"dependants\": 1,\n",
            "  \"employer\": \"Begum-Williams\",\n",
            "  \"retired\": false,\n",
            "  \"salary\": 54016.0,\n",
            "  \"pension\": 0.0,\n",
            "  \"commute_distance\": 13.72,\n",
            "  \"vehicle\": {\n",
            "    \"make\": \"Nissan\",\n",
            "    \"model\": \"ATS\",\n",
            "    \"year\": 1996,\n",
            "    \"type\": \"Coupe\"\n",
            "  },\n",
            "  \"credit_card\": {\n",
            "    \"start_date\": \"08/12\",\n",
            "    \"end_date\": \"11/26\",\n",
            "    \"number\": \"4529436854129855\",\n",
            "    \"security_code\": \"583\",\n",
            "    \"iban\": \"GB37UMCO54540228728019\"\n",
            "  },\n",
            "  \"address\": {\n",
            "    \"address\": \"00 Wheeler wells\",\n",
            "    \"city\": \"Chapmanton\",\n",
            "    \"postcode\": \"L2 7BT\"\n",
            "  }\n",
            "}\n"
          ]
        }
      ]
    },
    {
      "cell_type": "markdown",
      "source": [
        "<a name=\"task-4-save-to-processedjson\"></a>\n",
        "## 🧮 Task 4 – Save All Transformed Records to processed.json\n",
        "\n",
        "After successfully transforming the flat CSV records into a nested dictionary structure, I am now saving the full dataset to a file named `processed.json`.\n",
        "\n",
        "This file contains a list of dictionaries where each dictionary represents a single customer. The format follows the JSON structure outlined in the appendix of the assignment brief, including nested fields for `vehicle`, `credit_card`, and `address`.\n",
        "\n",
        "The output is saved using the built-in `json` module with indentation for better readability."
      ],
      "metadata": {
        "id": "SjE2SAdnWoLe"
      }
    },
    {
      "cell_type": "code",
      "source": [
        "# Saving my transformed dataset to processed.json\n",
        "\n",
        "output_file = \"processed.json\"\n",
        "\n",
        "try:\n",
        "    with open(output_file, mode=\"w\") as f:\n",
        "        json.dump(transformed_acw_customer_records, f, indent=2)\n",
        "    print(f\"✅ Successfully wrote {len(transformed_acw_customer_records)} records to {output_file}\")\n",
        "except Exception as e:\n",
        "    print(f\"Failed to write to {output_file}: {e}\")\n"
      ],
      "metadata": {
        "colab": {
          "base_uri": "https://localhost:8080/"
        },
        "id": "kmGOvMUFXRhU",
        "outputId": "a4afeb5e-9974-4157-f7d9-41ec87664347"
      },
      "execution_count": 14,
      "outputs": [
        {
          "output_type": "stream",
          "name": "stdout",
          "text": [
            "✅ Successfully wrote 1000 records to processed.json\n"
          ]
        }
      ]
    },
    {
      "cell_type": "markdown",
      "source": [
        "<a name=\"task-5-save-retired-and-employed-customers\"></a>\n",
        "## 🧮 Task 5 – Saving Retired and Employed Customers\n",
        "Now that I have a clean list of transformed records (`transformed_acw_customer_records`), I want to separate customers into two groups:\n",
        "\n",
        "To keep my notebook organized and reusable, I decided to wrap the filtering logic into a class called `CustomerFilter`.\n",
        "\n",
        "This class makes it easier to:\n",
        "- Filter customer records based on conditions\n",
        "- Save filtered results to specific JSON files\n",
        "- Extend the logic for other filtering tasks later when needed\n",
        "\n",
        "> The class includes methods for handling retired and employed customers.\n",
        "\n"
      ],
      "metadata": {
        "id": "l5eB4n3OYsVh"
      }
    },
    {
      "cell_type": "code",
      "source": [
        "# CustomerFilter class to organize my filtering logic\n",
        "\n",
        "class CustomerFilter:\n",
        "    \"\"\"Customer Filter Class\"\"\"\n",
        "    def __init__(self, customer_records: list):\n",
        "        self.customer_records = customer_records\n",
        "\n",
        "    def is_retired(self, customer):\n",
        "        \"\"\"Checks if a customer is retired.\n",
        "        Returns True if the customer is retired, False otherwise.\n",
        "        \"\"\"\n",
        "        return bool(customer.get(\"retired\"))\n",
        "\n",
        "    def is_employed(self, customer):\n",
        "        \"\"\"Checks if a customer is employed.\n",
        "        Returns True if the customer is employed, False otherwise.\n",
        "        \"\"\"\n",
        "        employer = customer.get(\"employer\")\n",
        "        return employer and employer != 0\n",
        "\n",
        "    def save_filtered_records(self, condition_function, filename):\n",
        "        \"\"\"\n",
        "        Filters self.data using condition_function and saves to a JSON file.\n",
        "        \"\"\"\n",
        "        try:\n",
        "            filtered = [customer for customer in self.customer_records if condition_function(customer)]\n",
        "            with open(filename, \"w\") as f:\n",
        "                json.dump(filtered, f, indent=2)\n",
        "            print(f\"✅ I saved {len(filtered)} records to {filename}\")\n",
        "\n",
        "            # show numbers of retired customers from total\n",
        "            print(f\"This shows that out of {len(self.customer_records)} customers - {len(filtered)} are {(condition_function.__name__).split('_')[1]}.\")\n",
        "\n",
        "        except Exception as e:\n",
        "            print(f\"Error saving {filename}: {e}\")\n"
      ],
      "metadata": {
        "id": "4EK-DlMKec5c"
      },
      "execution_count": 15,
      "outputs": []
    },
    {
      "cell_type": "code",
      "source": [
        "# Use the class to save the required files\n",
        "# Create filter instance\n",
        "filterer = CustomerFilter(transformed_acw_customer_records)"
      ],
      "metadata": {
        "id": "6Du5Pit8gwDA"
      },
      "execution_count": 16,
      "outputs": []
    },
    {
      "cell_type": "code",
      "source": [
        "# Save retired customers\n",
        "filterer.save_filtered_records(filterer.is_retired, \"retired.json\")"
      ],
      "metadata": {
        "colab": {
          "base_uri": "https://localhost:8080/"
        },
        "id": "nBdk1jnGglyB",
        "outputId": "bb71db57-4bf0-4d03-cde8-69a7660ea52a"
      },
      "execution_count": 17,
      "outputs": [
        {
          "output_type": "stream",
          "name": "stdout",
          "text": [
            "✅ I saved 246 records to retired.json\n",
            "This shows that out of 1000 customers - 246 are retired.\n"
          ]
        }
      ]
    },
    {
      "cell_type": "code",
      "source": [
        "# Save retired customers\n",
        "filterer.save_filtered_records(filterer.is_employed, \"employed.json\")"
      ],
      "metadata": {
        "colab": {
          "base_uri": "https://localhost:8080/"
        },
        "id": "nvj0IJIfg1nQ",
        "outputId": "88a5ffa0-3223-417f-8359-634bc2a0f06b"
      },
      "execution_count": 18,
      "outputs": [
        {
          "output_type": "stream",
          "name": "stdout",
          "text": [
            "✅ I saved 754 records to employed.json\n",
            "This shows that out of 1000 customers - 754 are employed.\n"
          ]
        }
      ]
    },
    {
      "cell_type": "markdown",
      "source": [
        "<a name=\"task-6-flag-invalid-credit-cards\"></a>\n",
        "## 🧮 Task 6 – Flagging Credit Card Issues (Over 10-Year Gaps)\n",
        "\n",
        "The client mentioned there may be data quality issues with some credit card entries — specifically where the time span between the **start date** and **expiry date** exceeds **10 years**.\n",
        "\n",
        "The dates are in credit card format (`MM/YY`), so lets fix this using a function that accepts a single row from the `acw_customer_records`, parses both dates, and checks if the difference is more than 10 years.\n",
        "\n",
        "> Any customer flagged by this function will be saved to `remove_ccard.json`.\n",
        "\n"
      ],
      "metadata": {
        "id": "bXOrg_WZmp-i"
      }
    },
    {
      "cell_type": "code",
      "source": [
        "def has_invalid_cc_date(credit_card: dict) -> bool:\n",
        "    \"\"\"\n",
        "    Accepts a dictionary of a customer record and returns True if the credit card\n",
        "    duration exceeds 10 years (based on MM/YY format).\n",
        "    \"\"\"\n",
        "    start = credit_card.get(\"start_date\", \"\")\n",
        "    end = credit_card.get(\"end_date\", \"\")\n",
        "\n",
        "    try:\n",
        "        start_dt = datetime.strptime(start, \"%m/%y\")\n",
        "        end_dt = datetime.strptime(end, \"%m/%y\")\n",
        "        duration_years = (end_dt.year - start_dt.year) + ((end_dt.month - start_dt.month) / 12)\n",
        "        return duration_years > 10\n",
        "    except Exception as e:\n",
        "        print(f\"⚠️ Skipping row due to date parsing error: {e}\")\n",
        "        return False\n"
      ],
      "metadata": {
        "id": "JxDcoFKvnPZp"
      },
      "execution_count": 19,
      "outputs": []
    },
    {
      "cell_type": "code",
      "source": [
        "# extract only the rows with invalid credit card durations from transformed_acw_customer_records\n",
        "flagged_cc_customers = []\n",
        "\n",
        "for customer in transformed_acw_customer_records:\n",
        "    # check to make sure all the objects in our list of transformed_acw_customer_records are dictionaries\n",
        "    if not isinstance(customer, dict):\n",
        "        continue\n",
        "\n",
        "    customer_credit_card = customer.get(\"credit_card\", {})\n",
        "\n",
        "    # incase of any customer without a credit card history or {}\n",
        "    if not customer_credit_card:\n",
        "        continue\n",
        "\n",
        "    # check if the customer have an invalid credit card or more than 10 years\n",
        "    if has_invalid_cc_date(customer_credit_card):\n",
        "        flagged_cc_customers.append(customer)\n",
        "\n",
        "print(f\"There are {len(flagged_cc_customers)} customer(s) with credit card issues in our AWC Data.\")\n"
      ],
      "metadata": {
        "id": "cNw-YAOQnW4D",
        "colab": {
          "base_uri": "https://localhost:8080/"
        },
        "outputId": "6acd71dc-1a45-4568-c357-0220cd510136"
      },
      "execution_count": 20,
      "outputs": [
        {
          "output_type": "stream",
          "name": "stdout",
          "text": [
            "There are 252 customer(s) with credit card issues in our AWC Data.\n"
          ]
        }
      ]
    },
    {
      "cell_type": "markdown",
      "source": [
        "- Lets Save this detail to a json file."
      ],
      "metadata": {
        "id": "8Tkg1eQ5J4nm"
      }
    },
    {
      "cell_type": "code",
      "source": [
        "# Save to remove_ccard.json\n",
        "try:\n",
        "    with open(\"remove_ccard.json\", \"w\", encoding=\"utf-8\") as f:\n",
        "        json.dump(flagged_cc_customers, f, indent=2)\n",
        "    print(f\"✅ I saved {len(flagged_cc_customers)} flagged records to remove_ccard.json\")\n",
        "    print(f\"This shows that out of {len(transformed_acw_customer_records)} customers - {len(flagged_cc_customers)} are having credit card issues.\")\n",
        "except Exception as e:\n",
        "    print(f\"Failed to write remove_ccard.json: {e}\")"
      ],
      "metadata": {
        "colab": {
          "base_uri": "https://localhost:8080/"
        },
        "id": "l2ePTS7VnnXe",
        "outputId": "a042783f-0412-46a3-9c00-bff0b119c21b"
      },
      "execution_count": 21,
      "outputs": [
        {
          "output_type": "stream",
          "name": "stdout",
          "text": [
            "✅ I saved 252 flagged records to remove_ccard.json\n",
            "This shows that out of 1000 customers - 252 are having credit card issues.\n"
          ]
        }
      ]
    },
    {
      "cell_type": "markdown",
      "source": [
        "<a name=\"task-7-calculate-salary-commute-and-save-sorted-data\"></a>\n",
        "## 🧮 Task 7 – Salary per Commute Distance (Salary-Commute Metric)\n",
        "\n",
        "To support customer ranking based on financial efficiency, I’ve added a new metric called `Salary-Commute`. This measures how much a customer earns per kilometre of their commute.\n",
        "\n",
        "Here's how I calculated it:\n",
        "- If a customer commutes **more than 1 km**, I divide their salary by the commute distance.\n",
        "- If they commute **1 km or less**, I simply assign their full salary as the `Salary-Commute` value.\n",
        "\n",
        "> After calculating this for all customers, I sorted the list in ascending order and saved it to `commute.json`.\n"
      ],
      "metadata": {
        "id": "2xSFPAucofv3"
      }
    },
    {
      "cell_type": "markdown",
      "source": [
        "- Load from processed.json"
      ],
      "metadata": {
        "id": "211CYeQVYNi5"
      }
    },
    {
      "cell_type": "code",
      "source": [
        "#  Step 1: Load from processed.json\n",
        "try:\n",
        "    with open(\"processed.json\", \"r\", encoding=\"utf-8\") as f:\n",
        "        processed_records = json.load(f)\n",
        "except Exception as e:\n",
        "    print(f\"Couldn't read processed.json: {e}\")\n",
        "    processed_records = []"
      ],
      "metadata": {
        "id": "vrvjPzPQovi7"
      },
      "execution_count": 22,
      "outputs": []
    },
    {
      "cell_type": "markdown",
      "source": [
        "- Add salary-commute metric"
      ],
      "metadata": {
        "id": "ISzDRnLjYRRE"
      }
    },
    {
      "cell_type": "code",
      "source": [
        "# Step 2: Add salary-commute metric\n",
        "for customer in processed_records:\n",
        "    salary = customer.get(\"salary\", 0)\n",
        "    commute = customer.get(\"commute_distance\", 0)\n",
        "\n",
        "    try:\n",
        "        salary = float(salary)\n",
        "        commute = float(commute)\n",
        "\n",
        "        if commute > 1:\n",
        "            customer[\"Salary-Commute\"] = round(salary / commute, 2)\n",
        "        else:\n",
        "            customer[\"Salary-Commute\"] = round(salary, 2)\n",
        "\n",
        "    except Exception as e:\n",
        "        print(f\"⚠️ Error calculating salary_commute for customer: {e}\")\n",
        "        customer[\"Salary-Commute\"] = salary  # fallback to just salary"
      ],
      "metadata": {
        "id": "rJEPCsN4o2Za"
      },
      "execution_count": 23,
      "outputs": []
    },
    {
      "cell_type": "markdown",
      "source": [
        "- Sort records in ascending order using the Salary-Commute we just added."
      ],
      "metadata": {
        "id": "FVMOg95DYXNS"
      }
    },
    {
      "cell_type": "code",
      "source": [
        "# Step 3: Sort records in ascending order using the Salary-Commute we just added.\n",
        "sorted_by_salary_commute_customers = sorted(processed_records, key=lambda x: x.get(\"Salary-Commute\", float(\"inf\")))\n"
      ],
      "metadata": {
        "id": "5Bo_wASro8i0"
      },
      "execution_count": 24,
      "outputs": []
    },
    {
      "cell_type": "markdown",
      "source": [
        "- First 5 customers with lowest salary-commute"
      ],
      "metadata": {
        "id": "iavmkLH9Y0HM"
      }
    },
    {
      "cell_type": "code",
      "source": [
        "print(\"🤏 First 5 customers with lowest salary-commute:\")\n",
        "customers_lowest_salary_commute = []\n",
        "\n",
        "for customer in sorted_by_salary_commute_customers [:5]:\n",
        "    customers_lowest_salary_commute.append(customer)\n",
        "    print(customer)"
      ],
      "metadata": {
        "colab": {
          "base_uri": "https://localhost:8080/"
        },
        "id": "PEMdUG6sMPhM",
        "outputId": "a23df5b0-100f-4dda-b836-1284f59495c6"
      },
      "execution_count": 25,
      "outputs": [
        {
          "output_type": "stream",
          "name": "stdout",
          "text": [
            "🤏 First 5 customers with lowest salary-commute:\n",
            "{'first_name': 'Graeme', 'last_name': 'Jackson', 'sex': 'Male', 'age': 52, 'marital_status': 'single', 'dependants': 2, 'employer': 'Smith, Birch and Burke', 'retired': False, 'salary': 17046.0, 'pension': 0.0, 'commute_distance': 5.52, 'vehicle': {'make': 'Chevrolet', 'model': 'Rally Wagon 1500', 'year': 2011, 'type': 'SUV'}, 'credit_card': {'start_date': '06/14', 'end_date': '04/29', 'number': '4713424668774153', 'security_code': '3053', 'iban': 'GB09ELJH35362236053720'}, 'address': {'address': 'Studio 9 Reid lights', 'city': 'South Ryan', 'postcode': 'E27 9GY'}, 'Salary-Commute': 3088.04}\n",
            "{'first_name': 'Janet', 'last_name': 'Quinn', 'sex': 'Female', 'age': 30, 'marital_status': 'married or civil partner', 'dependants': 1, 'employer': 'Wood-Davies', 'retired': False, 'salary': 17428.0, 'pension': 0.0, 'commute_distance': 5.64, 'vehicle': {'make': 'Audi', 'model': 'Land Cruiser', 'year': 2000, 'type': 'SUV'}, 'credit_card': {'start_date': '02/12', 'end_date': '02/25', 'number': '180012621284154', 'security_code': '392', 'iban': 'GB47KCJL06712308674300'}, 'address': {'address': 'Studio 34r Wilkinson camp', 'city': 'Louisland', 'postcode': 'G7H 8FA'}, 'Salary-Commute': 3090.07}\n",
            "{'first_name': 'Peter', 'last_name': 'Burton', 'sex': 'Male', 'age': 63, 'marital_status': 'married or civil partner', 'dependants': 2, 'employer': 'Graham, Watts and Hall', 'retired': False, 'salary': 17245.0, 'pension': 0.0, 'commute_distance': 5.58, 'vehicle': {'make': 'Dodge', 'model': 'Sorento', 'year': 2016, 'type': 'Sedan, Coupe, Hatchback'}, 'credit_card': {'start_date': '11/12', 'end_date': '07/22', 'number': '4058253691525', 'security_code': '458', 'iban': 'GB30EGRJ34862965423758'}, 'address': {'address': 'Studio 38 James throughway', 'city': 'Leighton', 'postcode': 'M8E 7HJ'}, 'Salary-Commute': 3090.5}\n",
            "{'first_name': 'Paula', 'last_name': 'Patel', 'sex': 'Female', 'age': 54, 'marital_status': 'married or civil partner', 'dependants': 0, 'employer': 'Foster, Morgan and Jackson', 'retired': False, 'salary': 17371.0, 'pension': 0.0, 'commute_distance': 5.62, 'vehicle': {'make': 'Genesis', 'model': 'Suburban 1500', 'year': 2018, 'type': 'Coupe'}, 'credit_card': {'start_date': '10/14', 'end_date': '05/25', 'number': '501807058752', 'security_code': '766', 'iban': 'GB29CWJF41656280619075'}, 'address': {'address': '3 Richards stravenue', 'city': 'West Petermouth', 'postcode': 'N1 8YE'}, 'Salary-Commute': 3090.93}\n",
            "{'first_name': 'Lynda', 'last_name': 'Gill', 'sex': 'Female', 'age': 30, 'marital_status': 'single', 'dependants': 3, 'employer': 'Brown-Little', 'retired': False, 'salary': 17729.0, 'pension': 0.0, 'commute_distance': 5.73, 'vehicle': {'make': 'Kia', 'model': 'Tundra Regular Cab', 'year': 2002, 'type': 'Van/Minivan'}, 'credit_card': {'start_date': '03/16', 'end_date': '09/21', 'number': '30542044638596', 'security_code': '417', 'iban': 'GB56NKVI05727577080668'}, 'address': {'address': '0 Burton underpass', 'city': 'Port Arthur', 'postcode': 'BR50 2QH'}, 'Salary-Commute': 3094.07}\n"
          ]
        }
      ]
    },
    {
      "cell_type": "markdown",
      "source": [
        "- lets view some few colums of this customers"
      ],
      "metadata": {
        "id": "ONqAaX2dYcRW"
      }
    },
    {
      "cell_type": "code",
      "source": [
        "# lets view some few colums of this customers\n",
        "for customer in customers_lowest_salary_commute:\n",
        "    print(f\"Customer: {customer['first_name']} {customer['last_name']}| Salary: {customer['salary']} | Commute (Km): {customer['commute_distance']} | Salary-Commute: {customer['Salary-Commute']}\")"
      ],
      "metadata": {
        "colab": {
          "base_uri": "https://localhost:8080/"
        },
        "id": "XE0vd7QkOfrS",
        "outputId": "92e8dbec-0401-4234-da73-0ab840b46bc9"
      },
      "execution_count": 26,
      "outputs": [
        {
          "output_type": "stream",
          "name": "stdout",
          "text": [
            "Customer: Graeme Jackson| Salary: 17046.0 | Commute (Km): 5.52 | Salary-Commute: 3088.04\n",
            "Customer: Janet Quinn| Salary: 17428.0 | Commute (Km): 5.64 | Salary-Commute: 3090.07\n",
            "Customer: Peter Burton| Salary: 17245.0 | Commute (Km): 5.58 | Salary-Commute: 3090.5\n",
            "Customer: Paula Patel| Salary: 17371.0 | Commute (Km): 5.62 | Salary-Commute: 3090.93\n",
            "Customer: Lynda Gill| Salary: 17729.0 | Commute (Km): 5.73 | Salary-Commute: 3094.07\n"
          ]
        }
      ]
    },
    {
      "cell_type": "markdown",
      "source": [
        "- Also checking the last 5 or customers with the highest salary commute"
      ],
      "metadata": {
        "id": "M3zje8MpMmXf"
      }
    },
    {
      "cell_type": "markdown",
      "source": [
        "> From the result above we can see that customer `Graeme Jackson` has the lowest salary-commute ranking."
      ],
      "metadata": {
        "id": "K19aUcJ6M9Wa"
      }
    },
    {
      "cell_type": "markdown",
      "source": [
        "- 👏 Last 5 customers with highest Salary-Commute"
      ],
      "metadata": {
        "id": "OdtUguPTYh8i"
      }
    },
    {
      "cell_type": "code",
      "source": [
        "print(\"👏 Last 5 customers with highest Salary-Commute:\")\n",
        "customers_highest_salary_commute = []\n",
        "for record in sorted_by_salary_commute_customers[-5:]:\n",
        "    customers_highest_salary_commute.append(record)\n",
        "    print(record)"
      ],
      "metadata": {
        "colab": {
          "base_uri": "https://localhost:8080/"
        },
        "id": "4DfkNTn9M2wi",
        "outputId": "b22e7e64-d7ae-4b7a-a6d8-75a9a6c9eda2"
      },
      "execution_count": 27,
      "outputs": [
        {
          "output_type": "stream",
          "name": "stdout",
          "text": [
            "👏 Last 5 customers with highest Salary-Commute:\n",
            "{'first_name': 'Keith', 'last_name': 'Williamson', 'sex': 'Male', 'age': 86, 'marital_status': 'married or civil partner', 'dependants': 1, 'employer': None, 'retired': True, 'salary': 97308.0, 'pension': 17419.0, 'commute_distance': 0.0, 'vehicle': {'make': 'Nissan', 'model': 'X-Type', 'year': 2013, 'type': 'Pickup'}, 'credit_card': {'start_date': '09/18', 'end_date': '05/27', 'number': '4207382704743348', 'security_code': '533', 'iban': 'GB04PRCL86743699392708'}, 'address': {'address': '18 King isle', 'city': 'East Caroline', 'postcode': 'SE25 0EH'}, 'Salary-Commute': 97308.0}\n",
            "{'first_name': 'Geoffrey', 'last_name': 'Ward', 'sex': 'Male', 'age': 72, 'marital_status': 'single', 'dependants': 1, 'employer': None, 'retired': True, 'salary': 97406.0, 'pension': 21838.0, 'commute_distance': 0.0, 'vehicle': {'make': 'Lincoln', 'model': 'Silverado 3500 HD Regular Cab', 'year': 2015, 'type': 'Van/Minivan'}, 'credit_card': {'start_date': '03/14', 'end_date': '08/24', 'number': '377179551619635', 'security_code': '0434', 'iban': 'GB54ZXCM95740026097623'}, 'address': {'address': '9 Randall center', 'city': 'Donaldmouth', 'postcode': 'S5 3GT'}, 'Salary-Commute': 97406.0}\n",
            "{'first_name': 'Lee', 'last_name': 'Davis', 'sex': 'Male', 'age': 73, 'marital_status': 'single', 'dependants': 4, 'employer': None, 'retired': True, 'salary': 97592.0, 'pension': 27056.0, 'commute_distance': 0.0, 'vehicle': {'make': 'Nissan', 'model': 'Equator Crew Cab', 'year': 2006, 'type': 'Pickup'}, 'credit_card': {'start_date': '09/16', 'end_date': '07/29', 'number': '30110419353215', 'security_code': '163', 'iban': 'GB48WWAA89798937138684'}, 'address': {'address': 'Studio 63 Hilary lodge', 'city': 'South Glennberg', 'postcode': 'S0K 1HX'}, 'Salary-Commute': 97592.0}\n",
            "{'first_name': 'Sian', 'last_name': 'Hayes', 'sex': 'Female', 'age': 89, 'marital_status': 'single', 'dependants': 2, 'employer': None, 'retired': True, 'salary': 97886.0, 'pension': 10639.0, 'commute_distance': 0.0, 'vehicle': {'make': 'Acura', 'model': 'Mercedes-AMG S-Class', 'year': 2011, 'type': 'Sedan'}, 'credit_card': {'start_date': '10/18', 'end_date': '10/19', 'number': '30223103156610', 'security_code': '077', 'iban': 'GB21GYGM93489361164428'}, 'address': {'address': '840 Webb forge', 'city': 'Port Francescatown', 'postcode': 'E2 2QX'}, 'Salary-Commute': 97886.0}\n",
            "{'first_name': 'Stephanie', 'last_name': 'Butler', 'sex': 'Female', 'age': 87, 'marital_status': 'married or civil partner', 'dependants': 2, 'employer': None, 'retired': True, 'salary': 98596.0, 'pension': 46117.0, 'commute_distance': 0.0, 'vehicle': {'make': 'Mercedes-Benz', 'model': 'Express 3500 Cargo', 'year': 2002, 'type': 'Coupe'}, 'credit_card': {'start_date': '05/13', 'end_date': '02/20', 'number': '213137758587920', 'security_code': '661', 'iban': 'GB06BBVM35013832455205'}, 'address': {'address': 'Flat 10 Slater port', 'city': 'Lake Arthur', 'postcode': 'W5 4RU'}, 'Salary-Commute': 98596.0}\n"
          ]
        }
      ]
    },
    {
      "cell_type": "code",
      "source": [
        "# lets view some few colums of this customers\n",
        "for customer in customers_highest_salary_commute:\n",
        "    print(f\"Customer: {customer['first_name']} {customer['last_name']}| Salary: {customer['salary']} | Commute (Km): {customer['commute_distance']} | Salary-Commute: {customer['Salary-Commute']}\")"
      ],
      "metadata": {
        "colab": {
          "base_uri": "https://localhost:8080/"
        },
        "id": "tmMxR2kKQHQ7",
        "outputId": "7aea468c-547a-4ee8-884c-ca27f6986f51"
      },
      "execution_count": 28,
      "outputs": [
        {
          "output_type": "stream",
          "name": "stdout",
          "text": [
            "Customer: Keith Williamson| Salary: 97308.0 | Commute (Km): 0.0 | Salary-Commute: 97308.0\n",
            "Customer: Geoffrey Ward| Salary: 97406.0 | Commute (Km): 0.0 | Salary-Commute: 97406.0\n",
            "Customer: Lee Davis| Salary: 97592.0 | Commute (Km): 0.0 | Salary-Commute: 97592.0\n",
            "Customer: Sian Hayes| Salary: 97886.0 | Commute (Km): 0.0 | Salary-Commute: 97886.0\n",
            "Customer: Stephanie Butler| Salary: 98596.0 | Commute (Km): 0.0 | Salary-Commute: 98596.0\n"
          ]
        }
      ]
    },
    {
      "cell_type": "markdown",
      "source": [
        "### 🔻 Customers with the **Lowest** Salary-Commute Scores\n",
        "\n",
        "These customers travel moderate distances to work for relatively low pay:\n",
        "\n",
        "| Customer          | Salary | Commute (Km) | Salary-Commute |\n",
        "|-------------------|--------|---------------|----------------|\n",
        "| Graeme Jackson    | 17046  | 5.52          | 3088.04        |\n",
        "| Janet Quinn       | 17428  | 5.64          | 3090.07        |\n",
        "| Peter Burton      | 17245  | 5.58          | 3090.50        |\n",
        "| Paula Patel       | 17371  | 5.62          | 3090.93        |\n",
        "| Lynda Gill        | 17729  | 5.73          | 3094.07        |\n",
        "\n",
        "🔎 These customers may face **commuting strain**, as they earn less per km of travel — indicating potentially poor income efficiency or job mismatch.\n",
        "\n",
        "---\n",
        "\n",
        "### 🔺 Customers with the Highest Salary-Commute Values\n",
        "\n",
        "These customers don’t commute (0 km), so their **Salary-Commute equals their salary** — the maximum possible under this system:\n",
        "\n",
        "| Customer            | Salary    | Commute (Km) | Salary-Commute |\n",
        "|---------------------|-----------|---------------|----------------|\n",
        "| Keith Williamson    | 97308     | 0.0           | 97308.0        |\n",
        "| Geoffrey Ward       | 97406     | 0.0           | 97406.0        |\n",
        "| Lee Davis           | 97592     | 0.0           | 97592.0        |\n",
        "| Sian Hayes          | 97886     | 0.0           | 97886.0        |\n",
        "| Stephanie Butler    | 98596     | 0.0           | 98596.0        |\n",
        "\n",
        "💡 These customers likely **work from home** or are **retired** but still receive significant income. They represent **excellent salary-to-effort ratios**, ideal in terms of work-life balance.\n",
        "\n",
        "---"
      ],
      "metadata": {
        "id": "qCskJIWvZ32f"
      }
    },
    {
      "cell_type": "markdown",
      "source": [
        "- Save the sorted customer records"
      ],
      "metadata": {
        "id": "W_7ge67ERKC-"
      }
    },
    {
      "cell_type": "code",
      "source": [
        "# Step 4: Save to commute.json\n",
        "try:\n",
        "    with open(\"commute.json\", \"w\", encoding=\"utf-8\") as f:\n",
        "        json.dump(sorted_by_salary_commute_customers, f, indent=2)\n",
        "    print(f\"✅ I saved {len(sorted_by_salary_commute_customers)} sorted records to commute.json\")\n",
        "except Exception as e:\n",
        "    print(f\"Failed to save commute.json: {e}\")"
      ],
      "metadata": {
        "colab": {
          "base_uri": "https://localhost:8080/"
        },
        "id": "-CnaqH4ko_I-",
        "outputId": "e4279789-913c-4f09-861f-ac5050267a44"
      },
      "execution_count": 29,
      "outputs": [
        {
          "output_type": "stream",
          "name": "stdout",
          "text": [
            "✅ I saved 1000 sorted records to commute.json\n"
          ]
        }
      ]
    },
    {
      "cell_type": "markdown",
      "source": [
        "---"
      ],
      "metadata": {
        "id": "PbafcE-z0ftt"
      }
    },
    {
      "cell_type": "markdown",
      "source": [
        "<a name=\"data-visualisation\"></a>\n",
        "# 📊 Data Visualisation\n",
        "> Using Pandas and Seaborn"
      ],
      "metadata": {
        "id": "sM1tVpSb00z9"
      }
    },
    {
      "cell_type": "markdown",
      "source": [
        "<a name=\"task-1a-mean-salary\"></a>\n",
        "\n",
        "To begin the visual analysis of the dataset, I’m using the **original CSV file** (`acw_user_data.csv`) and loading it into a Pandas DataFrame.\n",
        "\n",
        "---\n"
      ],
      "metadata": {
        "id": "y4Jj1DHt0YlH"
      }
    },
    {
      "cell_type": "markdown",
      "source": [
        "### Load the original CSV file using Pandas"
      ],
      "metadata": {
        "id": "VSGVi3McueNp"
      }
    },
    {
      "cell_type": "code",
      "source": [
        "# Load the original CSV file using Pandas\n",
        "df_acw_customer_records = pd.read_csv(file_path)"
      ],
      "metadata": {
        "id": "3rvoeRTy4SST"
      },
      "execution_count": 30,
      "outputs": []
    },
    {
      "cell_type": "markdown",
      "source": [
        "### Lets check and see if our dataframe have been loaded correctly by viewing and doing so analysis"
      ],
      "metadata": {
        "id": "aNseZ_lf1uRW"
      }
    },
    {
      "cell_type": "markdown",
      "source": [
        "### Top 5 rows"
      ],
      "metadata": {
        "id": "8IC7V61d3ETE"
      }
    },
    {
      "cell_type": "code",
      "source": [
        "# the top 5 customers\n",
        "df_acw_customer_records.head()"
      ],
      "metadata": {
        "colab": {
          "base_uri": "https://localhost:8080/",
          "height": 516
        },
        "id": "JAKbOBFg1-TJ",
        "outputId": "3972af04-0cd6-4c7e-e69e-cad993f13bf2"
      },
      "execution_count": 31,
      "outputs": [
        {
          "output_type": "execute_result",
          "data": {
            "text/plain": [
              "              Address Street    Address City Address Postcode  Age (Years)  \\\n",
              "0              70 Lydia isle      Lake Conor          S71 7XZ           89   \n",
              "1           00 Wheeler wells      Chapmanton           L2 7BT           46   \n",
              "2       Studio 33K Joel walk  Randallborough         ME3N 1GH           22   \n",
              "3  Studio 46S Bethany lights      East Reece          E10 9RJ           56   \n",
              "4     Flat 3 Christine views    Fletcherstad          WS2 9SN           57   \n",
              "\n",
              "   Distance Commuted to Work (Km)          Employer Company  \\\n",
              "0                            0.00                       NaN   \n",
              "1                           13.72            Begum-Williams   \n",
              "2                           16.02               Hill-Wright   \n",
              "3                           19.35                 Green LLC   \n",
              "4                            5.94  Hill, Evans and Harrison   \n",
              "\n",
              "  Credit Card Start Date Credit Card Expiry Date   Credit Card Number  \\\n",
              "0                  08/18                   11/27         676373692463   \n",
              "1                  08/12                   11/26     4529436854129855   \n",
              "2                  11/19                   07/27  4091726363083888495   \n",
              "3                  10/17                   04/18  4671332769487632633   \n",
              "4                  04/19                   11/27     2245094149128526   \n",
              "\n",
              "   Credit Card CVV  ...  Last Name            Marital Status  \\\n",
              "0              875  ...     Wilson  married or civil partner   \n",
              "1              583  ...     Thomas  married or civil partner   \n",
              "2              422  ...      Jones  married or civil partner   \n",
              "3              669  ...       Shaw  married or civil partner   \n",
              "4              659  ...    O'Brien  married or civil partner   \n",
              "\n",
              "  Yearly Pension (Dollar) Retired Yearly Salary (Dollar)     Sex  \\\n",
              "0                    7257    True                  72838    Male   \n",
              "1                       0   False                  54016    Male   \n",
              "2                       0   False                  68049    Male   \n",
              "3                       0   False                  91337    Male   \n",
              "4                       0   False                  18446  Female   \n",
              "\n",
              "   Vehicle Make       Vehicle Model Vehicle Year        Vehicle Type  \n",
              "0       Hyundai          Bonneville         2009              Pickup  \n",
              "1        Nissan                 ATS         1996               Coupe  \n",
              "2           GMC             Achieva         2015  Convertible, Coupe  \n",
              "3         Scion  F150 SuperCrew Cab         1994              Pickup  \n",
              "4         Buick             Outback         2020                 SUV  \n",
              "\n",
              "[5 rows x 23 columns]"
            ],
            "text/html": [
              "\n",
              "  <div id=\"df-d4b3bf4c-a941-4436-af3f-2a491af839b5\" class=\"colab-df-container\">\n",
              "    <div>\n",
              "<style scoped>\n",
              "    .dataframe tbody tr th:only-of-type {\n",
              "        vertical-align: middle;\n",
              "    }\n",
              "\n",
              "    .dataframe tbody tr th {\n",
              "        vertical-align: top;\n",
              "    }\n",
              "\n",
              "    .dataframe thead th {\n",
              "        text-align: right;\n",
              "    }\n",
              "</style>\n",
              "<table border=\"1\" class=\"dataframe\">\n",
              "  <thead>\n",
              "    <tr style=\"text-align: right;\">\n",
              "      <th></th>\n",
              "      <th>Address Street</th>\n",
              "      <th>Address City</th>\n",
              "      <th>Address Postcode</th>\n",
              "      <th>Age (Years)</th>\n",
              "      <th>Distance Commuted to Work (Km)</th>\n",
              "      <th>Employer Company</th>\n",
              "      <th>Credit Card Start Date</th>\n",
              "      <th>Credit Card Expiry Date</th>\n",
              "      <th>Credit Card Number</th>\n",
              "      <th>Credit Card CVV</th>\n",
              "      <th>...</th>\n",
              "      <th>Last Name</th>\n",
              "      <th>Marital Status</th>\n",
              "      <th>Yearly Pension (Dollar)</th>\n",
              "      <th>Retired</th>\n",
              "      <th>Yearly Salary (Dollar)</th>\n",
              "      <th>Sex</th>\n",
              "      <th>Vehicle Make</th>\n",
              "      <th>Vehicle Model</th>\n",
              "      <th>Vehicle Year</th>\n",
              "      <th>Vehicle Type</th>\n",
              "    </tr>\n",
              "  </thead>\n",
              "  <tbody>\n",
              "    <tr>\n",
              "      <th>0</th>\n",
              "      <td>70 Lydia isle</td>\n",
              "      <td>Lake Conor</td>\n",
              "      <td>S71 7XZ</td>\n",
              "      <td>89</td>\n",
              "      <td>0.00</td>\n",
              "      <td>NaN</td>\n",
              "      <td>08/18</td>\n",
              "      <td>11/27</td>\n",
              "      <td>676373692463</td>\n",
              "      <td>875</td>\n",
              "      <td>...</td>\n",
              "      <td>Wilson</td>\n",
              "      <td>married or civil partner</td>\n",
              "      <td>7257</td>\n",
              "      <td>True</td>\n",
              "      <td>72838</td>\n",
              "      <td>Male</td>\n",
              "      <td>Hyundai</td>\n",
              "      <td>Bonneville</td>\n",
              "      <td>2009</td>\n",
              "      <td>Pickup</td>\n",
              "    </tr>\n",
              "    <tr>\n",
              "      <th>1</th>\n",
              "      <td>00 Wheeler wells</td>\n",
              "      <td>Chapmanton</td>\n",
              "      <td>L2 7BT</td>\n",
              "      <td>46</td>\n",
              "      <td>13.72</td>\n",
              "      <td>Begum-Williams</td>\n",
              "      <td>08/12</td>\n",
              "      <td>11/26</td>\n",
              "      <td>4529436854129855</td>\n",
              "      <td>583</td>\n",
              "      <td>...</td>\n",
              "      <td>Thomas</td>\n",
              "      <td>married or civil partner</td>\n",
              "      <td>0</td>\n",
              "      <td>False</td>\n",
              "      <td>54016</td>\n",
              "      <td>Male</td>\n",
              "      <td>Nissan</td>\n",
              "      <td>ATS</td>\n",
              "      <td>1996</td>\n",
              "      <td>Coupe</td>\n",
              "    </tr>\n",
              "    <tr>\n",
              "      <th>2</th>\n",
              "      <td>Studio 33K Joel walk</td>\n",
              "      <td>Randallborough</td>\n",
              "      <td>ME3N 1GH</td>\n",
              "      <td>22</td>\n",
              "      <td>16.02</td>\n",
              "      <td>Hill-Wright</td>\n",
              "      <td>11/19</td>\n",
              "      <td>07/27</td>\n",
              "      <td>4091726363083888495</td>\n",
              "      <td>422</td>\n",
              "      <td>...</td>\n",
              "      <td>Jones</td>\n",
              "      <td>married or civil partner</td>\n",
              "      <td>0</td>\n",
              "      <td>False</td>\n",
              "      <td>68049</td>\n",
              "      <td>Male</td>\n",
              "      <td>GMC</td>\n",
              "      <td>Achieva</td>\n",
              "      <td>2015</td>\n",
              "      <td>Convertible, Coupe</td>\n",
              "    </tr>\n",
              "    <tr>\n",
              "      <th>3</th>\n",
              "      <td>Studio 46S Bethany lights</td>\n",
              "      <td>East Reece</td>\n",
              "      <td>E10 9RJ</td>\n",
              "      <td>56</td>\n",
              "      <td>19.35</td>\n",
              "      <td>Green LLC</td>\n",
              "      <td>10/17</td>\n",
              "      <td>04/18</td>\n",
              "      <td>4671332769487632633</td>\n",
              "      <td>669</td>\n",
              "      <td>...</td>\n",
              "      <td>Shaw</td>\n",
              "      <td>married or civil partner</td>\n",
              "      <td>0</td>\n",
              "      <td>False</td>\n",
              "      <td>91337</td>\n",
              "      <td>Male</td>\n",
              "      <td>Scion</td>\n",
              "      <td>F150 SuperCrew Cab</td>\n",
              "      <td>1994</td>\n",
              "      <td>Pickup</td>\n",
              "    </tr>\n",
              "    <tr>\n",
              "      <th>4</th>\n",
              "      <td>Flat 3 Christine views</td>\n",
              "      <td>Fletcherstad</td>\n",
              "      <td>WS2 9SN</td>\n",
              "      <td>57</td>\n",
              "      <td>5.94</td>\n",
              "      <td>Hill, Evans and Harrison</td>\n",
              "      <td>04/19</td>\n",
              "      <td>11/27</td>\n",
              "      <td>2245094149128526</td>\n",
              "      <td>659</td>\n",
              "      <td>...</td>\n",
              "      <td>O'Brien</td>\n",
              "      <td>married or civil partner</td>\n",
              "      <td>0</td>\n",
              "      <td>False</td>\n",
              "      <td>18446</td>\n",
              "      <td>Female</td>\n",
              "      <td>Buick</td>\n",
              "      <td>Outback</td>\n",
              "      <td>2020</td>\n",
              "      <td>SUV</td>\n",
              "    </tr>\n",
              "  </tbody>\n",
              "</table>\n",
              "<p>5 rows × 23 columns</p>\n",
              "</div>\n",
              "    <div class=\"colab-df-buttons\">\n",
              "\n",
              "  <div class=\"colab-df-container\">\n",
              "    <button class=\"colab-df-convert\" onclick=\"convertToInteractive('df-d4b3bf4c-a941-4436-af3f-2a491af839b5')\"\n",
              "            title=\"Convert this dataframe to an interactive table.\"\n",
              "            style=\"display:none;\">\n",
              "\n",
              "  <svg xmlns=\"http://www.w3.org/2000/svg\" height=\"24px\" viewBox=\"0 -960 960 960\">\n",
              "    <path d=\"M120-120v-720h720v720H120Zm60-500h600v-160H180v160Zm220 220h160v-160H400v160Zm0 220h160v-160H400v160ZM180-400h160v-160H180v160Zm440 0h160v-160H620v160ZM180-180h160v-160H180v160Zm440 0h160v-160H620v160Z\"/>\n",
              "  </svg>\n",
              "    </button>\n",
              "\n",
              "  <style>\n",
              "    .colab-df-container {\n",
              "      display:flex;\n",
              "      gap: 12px;\n",
              "    }\n",
              "\n",
              "    .colab-df-convert {\n",
              "      background-color: #E8F0FE;\n",
              "      border: none;\n",
              "      border-radius: 50%;\n",
              "      cursor: pointer;\n",
              "      display: none;\n",
              "      fill: #1967D2;\n",
              "      height: 32px;\n",
              "      padding: 0 0 0 0;\n",
              "      width: 32px;\n",
              "    }\n",
              "\n",
              "    .colab-df-convert:hover {\n",
              "      background-color: #E2EBFA;\n",
              "      box-shadow: 0px 1px 2px rgba(60, 64, 67, 0.3), 0px 1px 3px 1px rgba(60, 64, 67, 0.15);\n",
              "      fill: #174EA6;\n",
              "    }\n",
              "\n",
              "    .colab-df-buttons div {\n",
              "      margin-bottom: 4px;\n",
              "    }\n",
              "\n",
              "    [theme=dark] .colab-df-convert {\n",
              "      background-color: #3B4455;\n",
              "      fill: #D2E3FC;\n",
              "    }\n",
              "\n",
              "    [theme=dark] .colab-df-convert:hover {\n",
              "      background-color: #434B5C;\n",
              "      box-shadow: 0px 1px 3px 1px rgba(0, 0, 0, 0.15);\n",
              "      filter: drop-shadow(0px 1px 2px rgba(0, 0, 0, 0.3));\n",
              "      fill: #FFFFFF;\n",
              "    }\n",
              "  </style>\n",
              "\n",
              "    <script>\n",
              "      const buttonEl =\n",
              "        document.querySelector('#df-d4b3bf4c-a941-4436-af3f-2a491af839b5 button.colab-df-convert');\n",
              "      buttonEl.style.display =\n",
              "        google.colab.kernel.accessAllowed ? 'block' : 'none';\n",
              "\n",
              "      async function convertToInteractive(key) {\n",
              "        const element = document.querySelector('#df-d4b3bf4c-a941-4436-af3f-2a491af839b5');\n",
              "        const dataTable =\n",
              "          await google.colab.kernel.invokeFunction('convertToInteractive',\n",
              "                                                    [key], {});\n",
              "        if (!dataTable) return;\n",
              "\n",
              "        const docLinkHtml = 'Like what you see? Visit the ' +\n",
              "          '<a target=\"_blank\" href=https://colab.research.google.com/notebooks/data_table.ipynb>data table notebook</a>'\n",
              "          + ' to learn more about interactive tables.';\n",
              "        element.innerHTML = '';\n",
              "        dataTable['output_type'] = 'display_data';\n",
              "        await google.colab.output.renderOutput(dataTable, element);\n",
              "        const docLink = document.createElement('div');\n",
              "        docLink.innerHTML = docLinkHtml;\n",
              "        element.appendChild(docLink);\n",
              "      }\n",
              "    </script>\n",
              "  </div>\n",
              "\n",
              "\n",
              "    <div id=\"df-b71715c8-979e-465a-b549-a8ccec5c33f8\">\n",
              "      <button class=\"colab-df-quickchart\" onclick=\"quickchart('df-b71715c8-979e-465a-b549-a8ccec5c33f8')\"\n",
              "                title=\"Suggest charts\"\n",
              "                style=\"display:none;\">\n",
              "\n",
              "<svg xmlns=\"http://www.w3.org/2000/svg\" height=\"24px\"viewBox=\"0 0 24 24\"\n",
              "     width=\"24px\">\n",
              "    <g>\n",
              "        <path d=\"M19 3H5c-1.1 0-2 .9-2 2v14c0 1.1.9 2 2 2h14c1.1 0 2-.9 2-2V5c0-1.1-.9-2-2-2zM9 17H7v-7h2v7zm4 0h-2V7h2v10zm4 0h-2v-4h2v4z\"/>\n",
              "    </g>\n",
              "</svg>\n",
              "      </button>\n",
              "\n",
              "<style>\n",
              "  .colab-df-quickchart {\n",
              "      --bg-color: #E8F0FE;\n",
              "      --fill-color: #1967D2;\n",
              "      --hover-bg-color: #E2EBFA;\n",
              "      --hover-fill-color: #174EA6;\n",
              "      --disabled-fill-color: #AAA;\n",
              "      --disabled-bg-color: #DDD;\n",
              "  }\n",
              "\n",
              "  [theme=dark] .colab-df-quickchart {\n",
              "      --bg-color: #3B4455;\n",
              "      --fill-color: #D2E3FC;\n",
              "      --hover-bg-color: #434B5C;\n",
              "      --hover-fill-color: #FFFFFF;\n",
              "      --disabled-bg-color: #3B4455;\n",
              "      --disabled-fill-color: #666;\n",
              "  }\n",
              "\n",
              "  .colab-df-quickchart {\n",
              "    background-color: var(--bg-color);\n",
              "    border: none;\n",
              "    border-radius: 50%;\n",
              "    cursor: pointer;\n",
              "    display: none;\n",
              "    fill: var(--fill-color);\n",
              "    height: 32px;\n",
              "    padding: 0;\n",
              "    width: 32px;\n",
              "  }\n",
              "\n",
              "  .colab-df-quickchart:hover {\n",
              "    background-color: var(--hover-bg-color);\n",
              "    box-shadow: 0 1px 2px rgba(60, 64, 67, 0.3), 0 1px 3px 1px rgba(60, 64, 67, 0.15);\n",
              "    fill: var(--button-hover-fill-color);\n",
              "  }\n",
              "\n",
              "  .colab-df-quickchart-complete:disabled,\n",
              "  .colab-df-quickchart-complete:disabled:hover {\n",
              "    background-color: var(--disabled-bg-color);\n",
              "    fill: var(--disabled-fill-color);\n",
              "    box-shadow: none;\n",
              "  }\n",
              "\n",
              "  .colab-df-spinner {\n",
              "    border: 2px solid var(--fill-color);\n",
              "    border-color: transparent;\n",
              "    border-bottom-color: var(--fill-color);\n",
              "    animation:\n",
              "      spin 1s steps(1) infinite;\n",
              "  }\n",
              "\n",
              "  @keyframes spin {\n",
              "    0% {\n",
              "      border-color: transparent;\n",
              "      border-bottom-color: var(--fill-color);\n",
              "      border-left-color: var(--fill-color);\n",
              "    }\n",
              "    20% {\n",
              "      border-color: transparent;\n",
              "      border-left-color: var(--fill-color);\n",
              "      border-top-color: var(--fill-color);\n",
              "    }\n",
              "    30% {\n",
              "      border-color: transparent;\n",
              "      border-left-color: var(--fill-color);\n",
              "      border-top-color: var(--fill-color);\n",
              "      border-right-color: var(--fill-color);\n",
              "    }\n",
              "    40% {\n",
              "      border-color: transparent;\n",
              "      border-right-color: var(--fill-color);\n",
              "      border-top-color: var(--fill-color);\n",
              "    }\n",
              "    60% {\n",
              "      border-color: transparent;\n",
              "      border-right-color: var(--fill-color);\n",
              "    }\n",
              "    80% {\n",
              "      border-color: transparent;\n",
              "      border-right-color: var(--fill-color);\n",
              "      border-bottom-color: var(--fill-color);\n",
              "    }\n",
              "    90% {\n",
              "      border-color: transparent;\n",
              "      border-bottom-color: var(--fill-color);\n",
              "    }\n",
              "  }\n",
              "</style>\n",
              "\n",
              "      <script>\n",
              "        async function quickchart(key) {\n",
              "          const quickchartButtonEl =\n",
              "            document.querySelector('#' + key + ' button');\n",
              "          quickchartButtonEl.disabled = true;  // To prevent multiple clicks.\n",
              "          quickchartButtonEl.classList.add('colab-df-spinner');\n",
              "          try {\n",
              "            const charts = await google.colab.kernel.invokeFunction(\n",
              "                'suggestCharts', [key], {});\n",
              "          } catch (error) {\n",
              "            console.error('Error during call to suggestCharts:', error);\n",
              "          }\n",
              "          quickchartButtonEl.classList.remove('colab-df-spinner');\n",
              "          quickchartButtonEl.classList.add('colab-df-quickchart-complete');\n",
              "        }\n",
              "        (() => {\n",
              "          let quickchartButtonEl =\n",
              "            document.querySelector('#df-b71715c8-979e-465a-b549-a8ccec5c33f8 button');\n",
              "          quickchartButtonEl.style.display =\n",
              "            google.colab.kernel.accessAllowed ? 'block' : 'none';\n",
              "        })();\n",
              "      </script>\n",
              "    </div>\n",
              "\n",
              "    </div>\n",
              "  </div>\n"
            ],
            "application/vnd.google.colaboratory.intrinsic+json": {
              "type": "dataframe",
              "variable_name": "df_acw_customer_records"
            }
          },
          "metadata": {},
          "execution_count": 31
        }
      ]
    },
    {
      "cell_type": "markdown",
      "source": [
        "### Bottom 5 records"
      ],
      "metadata": {
        "id": "oZagmIWX20T1"
      }
    },
    {
      "cell_type": "code",
      "source": [
        "# bottom 5 customers\n",
        "df_acw_customer_records.tail()"
      ],
      "metadata": {
        "colab": {
          "base_uri": "https://localhost:8080/",
          "height": 481
        },
        "id": "X9MdIXUw2IsP",
        "outputId": "7619e5be-be1d-4bff-ed1e-6e532ffcedc4"
      },
      "execution_count": 32,
      "outputs": [
        {
          "output_type": "execute_result",
          "data": {
            "text/plain": [
              "               Address Street  Address City Address Postcode  Age (Years)  \\\n",
              "995  Studio 6 Heather prairie  North Amelia           E9 0HB           48   \n",
              "996         Flat 3 Davies run    Greenshire           E7 4UJ           22   \n",
              "997    Flat 7 Barber motorway  Burrowsshire          L62 8TA           38   \n",
              "998             00 Tony forks     Abbiebury          NP4 1JL           45   \n",
              "999      Flat 9 Mohamed route     West Glen         LL3M 4WS           80   \n",
              "\n",
              "     Distance Commuted to Work (Km) Employer Company Credit Card Start Date  \\\n",
              "995                           18.44    Phillips-Pope                  04/19   \n",
              "996                           19.61       Hughes LLC                  05/12   \n",
              "997                            6.66     Bailey Group                  01/13   \n",
              "998                           18.13     Foster-Price                  04/19   \n",
              "999                            0.00              NaN                  12/14   \n",
              "\n",
              "    Credit Card Expiry Date  Credit Card Number  Credit Card CVV  ...  \\\n",
              "995                   08/26    3563802099155576              908  ...   \n",
              "996                   07/28    3591311819315276              675  ...   \n",
              "997                   05/29    3584931475767707              679  ...   \n",
              "998                   05/23    4090311300716168              775  ...   \n",
              "999                   01/16     180020306382110              903  ...   \n",
              "\n",
              "     Last Name            Marital Status Yearly Pension (Dollar) Retired  \\\n",
              "995      Clark  married or civil partner                       0   False   \n",
              "996      Jones  married or civil partner                       0   False   \n",
              "997     Walker                    single                       0   False   \n",
              "998    Thomson  married or civil partner                       0   False   \n",
              "999    Russell                    single                   22869    True   \n",
              "\n",
              "    Yearly Salary (Dollar)     Sex  Vehicle Make      Vehicle Model  \\\n",
              "995                  84645    Male        Saturn        Convertible   \n",
              "996                  93314  Female        Toyota              Yukon   \n",
              "997                  20940  Female          Ford                 S6   \n",
              "998                  82412    Male         Scion  Ram 1500 Quad Cab   \n",
              "999                  25788  Female           Geo                 S7   \n",
              "\n",
              "    Vehicle Year Vehicle Type  \n",
              "995         2015  Van/Minivan  \n",
              "996         2015  Van/Minivan  \n",
              "997         2020        Sedan  \n",
              "998         2015       Pickup  \n",
              "999         1993  Van/Minivan  \n",
              "\n",
              "[5 rows x 23 columns]"
            ],
            "text/html": [
              "\n",
              "  <div id=\"df-543e7e9e-edaa-41ba-841f-99c4d55ba228\" class=\"colab-df-container\">\n",
              "    <div>\n",
              "<style scoped>\n",
              "    .dataframe tbody tr th:only-of-type {\n",
              "        vertical-align: middle;\n",
              "    }\n",
              "\n",
              "    .dataframe tbody tr th {\n",
              "        vertical-align: top;\n",
              "    }\n",
              "\n",
              "    .dataframe thead th {\n",
              "        text-align: right;\n",
              "    }\n",
              "</style>\n",
              "<table border=\"1\" class=\"dataframe\">\n",
              "  <thead>\n",
              "    <tr style=\"text-align: right;\">\n",
              "      <th></th>\n",
              "      <th>Address Street</th>\n",
              "      <th>Address City</th>\n",
              "      <th>Address Postcode</th>\n",
              "      <th>Age (Years)</th>\n",
              "      <th>Distance Commuted to Work (Km)</th>\n",
              "      <th>Employer Company</th>\n",
              "      <th>Credit Card Start Date</th>\n",
              "      <th>Credit Card Expiry Date</th>\n",
              "      <th>Credit Card Number</th>\n",
              "      <th>Credit Card CVV</th>\n",
              "      <th>...</th>\n",
              "      <th>Last Name</th>\n",
              "      <th>Marital Status</th>\n",
              "      <th>Yearly Pension (Dollar)</th>\n",
              "      <th>Retired</th>\n",
              "      <th>Yearly Salary (Dollar)</th>\n",
              "      <th>Sex</th>\n",
              "      <th>Vehicle Make</th>\n",
              "      <th>Vehicle Model</th>\n",
              "      <th>Vehicle Year</th>\n",
              "      <th>Vehicle Type</th>\n",
              "    </tr>\n",
              "  </thead>\n",
              "  <tbody>\n",
              "    <tr>\n",
              "      <th>995</th>\n",
              "      <td>Studio 6 Heather prairie</td>\n",
              "      <td>North Amelia</td>\n",
              "      <td>E9 0HB</td>\n",
              "      <td>48</td>\n",
              "      <td>18.44</td>\n",
              "      <td>Phillips-Pope</td>\n",
              "      <td>04/19</td>\n",
              "      <td>08/26</td>\n",
              "      <td>3563802099155576</td>\n",
              "      <td>908</td>\n",
              "      <td>...</td>\n",
              "      <td>Clark</td>\n",
              "      <td>married or civil partner</td>\n",
              "      <td>0</td>\n",
              "      <td>False</td>\n",
              "      <td>84645</td>\n",
              "      <td>Male</td>\n",
              "      <td>Saturn</td>\n",
              "      <td>Convertible</td>\n",
              "      <td>2015</td>\n",
              "      <td>Van/Minivan</td>\n",
              "    </tr>\n",
              "    <tr>\n",
              "      <th>996</th>\n",
              "      <td>Flat 3 Davies run</td>\n",
              "      <td>Greenshire</td>\n",
              "      <td>E7 4UJ</td>\n",
              "      <td>22</td>\n",
              "      <td>19.61</td>\n",
              "      <td>Hughes LLC</td>\n",
              "      <td>05/12</td>\n",
              "      <td>07/28</td>\n",
              "      <td>3591311819315276</td>\n",
              "      <td>675</td>\n",
              "      <td>...</td>\n",
              "      <td>Jones</td>\n",
              "      <td>married or civil partner</td>\n",
              "      <td>0</td>\n",
              "      <td>False</td>\n",
              "      <td>93314</td>\n",
              "      <td>Female</td>\n",
              "      <td>Toyota</td>\n",
              "      <td>Yukon</td>\n",
              "      <td>2015</td>\n",
              "      <td>Van/Minivan</td>\n",
              "    </tr>\n",
              "    <tr>\n",
              "      <th>997</th>\n",
              "      <td>Flat 7 Barber motorway</td>\n",
              "      <td>Burrowsshire</td>\n",
              "      <td>L62 8TA</td>\n",
              "      <td>38</td>\n",
              "      <td>6.66</td>\n",
              "      <td>Bailey Group</td>\n",
              "      <td>01/13</td>\n",
              "      <td>05/29</td>\n",
              "      <td>3584931475767707</td>\n",
              "      <td>679</td>\n",
              "      <td>...</td>\n",
              "      <td>Walker</td>\n",
              "      <td>single</td>\n",
              "      <td>0</td>\n",
              "      <td>False</td>\n",
              "      <td>20940</td>\n",
              "      <td>Female</td>\n",
              "      <td>Ford</td>\n",
              "      <td>S6</td>\n",
              "      <td>2020</td>\n",
              "      <td>Sedan</td>\n",
              "    </tr>\n",
              "    <tr>\n",
              "      <th>998</th>\n",
              "      <td>00 Tony forks</td>\n",
              "      <td>Abbiebury</td>\n",
              "      <td>NP4 1JL</td>\n",
              "      <td>45</td>\n",
              "      <td>18.13</td>\n",
              "      <td>Foster-Price</td>\n",
              "      <td>04/19</td>\n",
              "      <td>05/23</td>\n",
              "      <td>4090311300716168</td>\n",
              "      <td>775</td>\n",
              "      <td>...</td>\n",
              "      <td>Thomson</td>\n",
              "      <td>married or civil partner</td>\n",
              "      <td>0</td>\n",
              "      <td>False</td>\n",
              "      <td>82412</td>\n",
              "      <td>Male</td>\n",
              "      <td>Scion</td>\n",
              "      <td>Ram 1500 Quad Cab</td>\n",
              "      <td>2015</td>\n",
              "      <td>Pickup</td>\n",
              "    </tr>\n",
              "    <tr>\n",
              "      <th>999</th>\n",
              "      <td>Flat 9 Mohamed route</td>\n",
              "      <td>West Glen</td>\n",
              "      <td>LL3M 4WS</td>\n",
              "      <td>80</td>\n",
              "      <td>0.00</td>\n",
              "      <td>NaN</td>\n",
              "      <td>12/14</td>\n",
              "      <td>01/16</td>\n",
              "      <td>180020306382110</td>\n",
              "      <td>903</td>\n",
              "      <td>...</td>\n",
              "      <td>Russell</td>\n",
              "      <td>single</td>\n",
              "      <td>22869</td>\n",
              "      <td>True</td>\n",
              "      <td>25788</td>\n",
              "      <td>Female</td>\n",
              "      <td>Geo</td>\n",
              "      <td>S7</td>\n",
              "      <td>1993</td>\n",
              "      <td>Van/Minivan</td>\n",
              "    </tr>\n",
              "  </tbody>\n",
              "</table>\n",
              "<p>5 rows × 23 columns</p>\n",
              "</div>\n",
              "    <div class=\"colab-df-buttons\">\n",
              "\n",
              "  <div class=\"colab-df-container\">\n",
              "    <button class=\"colab-df-convert\" onclick=\"convertToInteractive('df-543e7e9e-edaa-41ba-841f-99c4d55ba228')\"\n",
              "            title=\"Convert this dataframe to an interactive table.\"\n",
              "            style=\"display:none;\">\n",
              "\n",
              "  <svg xmlns=\"http://www.w3.org/2000/svg\" height=\"24px\" viewBox=\"0 -960 960 960\">\n",
              "    <path d=\"M120-120v-720h720v720H120Zm60-500h600v-160H180v160Zm220 220h160v-160H400v160Zm0 220h160v-160H400v160ZM180-400h160v-160H180v160Zm440 0h160v-160H620v160ZM180-180h160v-160H180v160Zm440 0h160v-160H620v160Z\"/>\n",
              "  </svg>\n",
              "    </button>\n",
              "\n",
              "  <style>\n",
              "    .colab-df-container {\n",
              "      display:flex;\n",
              "      gap: 12px;\n",
              "    }\n",
              "\n",
              "    .colab-df-convert {\n",
              "      background-color: #E8F0FE;\n",
              "      border: none;\n",
              "      border-radius: 50%;\n",
              "      cursor: pointer;\n",
              "      display: none;\n",
              "      fill: #1967D2;\n",
              "      height: 32px;\n",
              "      padding: 0 0 0 0;\n",
              "      width: 32px;\n",
              "    }\n",
              "\n",
              "    .colab-df-convert:hover {\n",
              "      background-color: #E2EBFA;\n",
              "      box-shadow: 0px 1px 2px rgba(60, 64, 67, 0.3), 0px 1px 3px 1px rgba(60, 64, 67, 0.15);\n",
              "      fill: #174EA6;\n",
              "    }\n",
              "\n",
              "    .colab-df-buttons div {\n",
              "      margin-bottom: 4px;\n",
              "    }\n",
              "\n",
              "    [theme=dark] .colab-df-convert {\n",
              "      background-color: #3B4455;\n",
              "      fill: #D2E3FC;\n",
              "    }\n",
              "\n",
              "    [theme=dark] .colab-df-convert:hover {\n",
              "      background-color: #434B5C;\n",
              "      box-shadow: 0px 1px 3px 1px rgba(0, 0, 0, 0.15);\n",
              "      filter: drop-shadow(0px 1px 2px rgba(0, 0, 0, 0.3));\n",
              "      fill: #FFFFFF;\n",
              "    }\n",
              "  </style>\n",
              "\n",
              "    <script>\n",
              "      const buttonEl =\n",
              "        document.querySelector('#df-543e7e9e-edaa-41ba-841f-99c4d55ba228 button.colab-df-convert');\n",
              "      buttonEl.style.display =\n",
              "        google.colab.kernel.accessAllowed ? 'block' : 'none';\n",
              "\n",
              "      async function convertToInteractive(key) {\n",
              "        const element = document.querySelector('#df-543e7e9e-edaa-41ba-841f-99c4d55ba228');\n",
              "        const dataTable =\n",
              "          await google.colab.kernel.invokeFunction('convertToInteractive',\n",
              "                                                    [key], {});\n",
              "        if (!dataTable) return;\n",
              "\n",
              "        const docLinkHtml = 'Like what you see? Visit the ' +\n",
              "          '<a target=\"_blank\" href=https://colab.research.google.com/notebooks/data_table.ipynb>data table notebook</a>'\n",
              "          + ' to learn more about interactive tables.';\n",
              "        element.innerHTML = '';\n",
              "        dataTable['output_type'] = 'display_data';\n",
              "        await google.colab.output.renderOutput(dataTable, element);\n",
              "        const docLink = document.createElement('div');\n",
              "        docLink.innerHTML = docLinkHtml;\n",
              "        element.appendChild(docLink);\n",
              "      }\n",
              "    </script>\n",
              "  </div>\n",
              "\n",
              "\n",
              "    <div id=\"df-70576ea7-b942-4a8e-b144-f04590d58c74\">\n",
              "      <button class=\"colab-df-quickchart\" onclick=\"quickchart('df-70576ea7-b942-4a8e-b144-f04590d58c74')\"\n",
              "                title=\"Suggest charts\"\n",
              "                style=\"display:none;\">\n",
              "\n",
              "<svg xmlns=\"http://www.w3.org/2000/svg\" height=\"24px\"viewBox=\"0 0 24 24\"\n",
              "     width=\"24px\">\n",
              "    <g>\n",
              "        <path d=\"M19 3H5c-1.1 0-2 .9-2 2v14c0 1.1.9 2 2 2h14c1.1 0 2-.9 2-2V5c0-1.1-.9-2-2-2zM9 17H7v-7h2v7zm4 0h-2V7h2v10zm4 0h-2v-4h2v4z\"/>\n",
              "    </g>\n",
              "</svg>\n",
              "      </button>\n",
              "\n",
              "<style>\n",
              "  .colab-df-quickchart {\n",
              "      --bg-color: #E8F0FE;\n",
              "      --fill-color: #1967D2;\n",
              "      --hover-bg-color: #E2EBFA;\n",
              "      --hover-fill-color: #174EA6;\n",
              "      --disabled-fill-color: #AAA;\n",
              "      --disabled-bg-color: #DDD;\n",
              "  }\n",
              "\n",
              "  [theme=dark] .colab-df-quickchart {\n",
              "      --bg-color: #3B4455;\n",
              "      --fill-color: #D2E3FC;\n",
              "      --hover-bg-color: #434B5C;\n",
              "      --hover-fill-color: #FFFFFF;\n",
              "      --disabled-bg-color: #3B4455;\n",
              "      --disabled-fill-color: #666;\n",
              "  }\n",
              "\n",
              "  .colab-df-quickchart {\n",
              "    background-color: var(--bg-color);\n",
              "    border: none;\n",
              "    border-radius: 50%;\n",
              "    cursor: pointer;\n",
              "    display: none;\n",
              "    fill: var(--fill-color);\n",
              "    height: 32px;\n",
              "    padding: 0;\n",
              "    width: 32px;\n",
              "  }\n",
              "\n",
              "  .colab-df-quickchart:hover {\n",
              "    background-color: var(--hover-bg-color);\n",
              "    box-shadow: 0 1px 2px rgba(60, 64, 67, 0.3), 0 1px 3px 1px rgba(60, 64, 67, 0.15);\n",
              "    fill: var(--button-hover-fill-color);\n",
              "  }\n",
              "\n",
              "  .colab-df-quickchart-complete:disabled,\n",
              "  .colab-df-quickchart-complete:disabled:hover {\n",
              "    background-color: var(--disabled-bg-color);\n",
              "    fill: var(--disabled-fill-color);\n",
              "    box-shadow: none;\n",
              "  }\n",
              "\n",
              "  .colab-df-spinner {\n",
              "    border: 2px solid var(--fill-color);\n",
              "    border-color: transparent;\n",
              "    border-bottom-color: var(--fill-color);\n",
              "    animation:\n",
              "      spin 1s steps(1) infinite;\n",
              "  }\n",
              "\n",
              "  @keyframes spin {\n",
              "    0% {\n",
              "      border-color: transparent;\n",
              "      border-bottom-color: var(--fill-color);\n",
              "      border-left-color: var(--fill-color);\n",
              "    }\n",
              "    20% {\n",
              "      border-color: transparent;\n",
              "      border-left-color: var(--fill-color);\n",
              "      border-top-color: var(--fill-color);\n",
              "    }\n",
              "    30% {\n",
              "      border-color: transparent;\n",
              "      border-left-color: var(--fill-color);\n",
              "      border-top-color: var(--fill-color);\n",
              "      border-right-color: var(--fill-color);\n",
              "    }\n",
              "    40% {\n",
              "      border-color: transparent;\n",
              "      border-right-color: var(--fill-color);\n",
              "      border-top-color: var(--fill-color);\n",
              "    }\n",
              "    60% {\n",
              "      border-color: transparent;\n",
              "      border-right-color: var(--fill-color);\n",
              "    }\n",
              "    80% {\n",
              "      border-color: transparent;\n",
              "      border-right-color: var(--fill-color);\n",
              "      border-bottom-color: var(--fill-color);\n",
              "    }\n",
              "    90% {\n",
              "      border-color: transparent;\n",
              "      border-bottom-color: var(--fill-color);\n",
              "    }\n",
              "  }\n",
              "</style>\n",
              "\n",
              "      <script>\n",
              "        async function quickchart(key) {\n",
              "          const quickchartButtonEl =\n",
              "            document.querySelector('#' + key + ' button');\n",
              "          quickchartButtonEl.disabled = true;  // To prevent multiple clicks.\n",
              "          quickchartButtonEl.classList.add('colab-df-spinner');\n",
              "          try {\n",
              "            const charts = await google.colab.kernel.invokeFunction(\n",
              "                'suggestCharts', [key], {});\n",
              "          } catch (error) {\n",
              "            console.error('Error during call to suggestCharts:', error);\n",
              "          }\n",
              "          quickchartButtonEl.classList.remove('colab-df-spinner');\n",
              "          quickchartButtonEl.classList.add('colab-df-quickchart-complete');\n",
              "        }\n",
              "        (() => {\n",
              "          let quickchartButtonEl =\n",
              "            document.querySelector('#df-70576ea7-b942-4a8e-b144-f04590d58c74 button');\n",
              "          quickchartButtonEl.style.display =\n",
              "            google.colab.kernel.accessAllowed ? 'block' : 'none';\n",
              "        })();\n",
              "      </script>\n",
              "    </div>\n",
              "\n",
              "    </div>\n",
              "  </div>\n"
            ],
            "application/vnd.google.colaboratory.intrinsic+json": {
              "type": "dataframe"
            }
          },
          "metadata": {},
          "execution_count": 32
        }
      ]
    },
    {
      "cell_type": "markdown",
      "source": [
        "### The shape, numbers of (rows, columns)\n",
        "\n"
      ],
      "metadata": {
        "id": "zTfYT0pb24s-"
      }
    },
    {
      "cell_type": "code",
      "source": [
        "# the shape, numbers of (row, columns)\n",
        "df_acw_customer_records.shape"
      ],
      "metadata": {
        "colab": {
          "base_uri": "https://localhost:8080/"
        },
        "id": "Ae-i7s2U2UD9",
        "outputId": "ac9a5b05-7f72-4d68-eb33-0c79cb51b43e"
      },
      "execution_count": 33,
      "outputs": [
        {
          "output_type": "execute_result",
          "data": {
            "text/plain": [
              "(1000, 23)"
            ]
          },
          "metadata": {},
          "execution_count": 33
        }
      ]
    },
    {
      "cell_type": "markdown",
      "source": [
        "### Check for duplicates"
      ],
      "metadata": {
        "id": "-zh-OLks3i8K"
      }
    },
    {
      "cell_type": "code",
      "source": [
        "print(f'Any duplicates? {df_acw_customer_records.duplicated().values.any()}')\n"
      ],
      "metadata": {
        "colab": {
          "base_uri": "https://localhost:8080/"
        },
        "id": "XSNAEADD3miW",
        "outputId": "a7c7de4c-3f60-4750-d34c-78922cfab1d9"
      },
      "execution_count": 34,
      "outputs": [
        {
          "output_type": "stream",
          "name": "stdout",
          "text": [
            "Any duplicates? False\n"
          ]
        }
      ]
    },
    {
      "cell_type": "markdown",
      "source": [
        "### Check for NaN Values"
      ],
      "metadata": {
        "id": "WI7l6zBs34OD"
      }
    },
    {
      "cell_type": "code",
      "source": [
        "print(f'Any NaN values among the data? {df_acw_customer_records.isna().values.any()}')"
      ],
      "metadata": {
        "colab": {
          "base_uri": "https://localhost:8080/"
        },
        "id": "Ydiy2urr37l2",
        "outputId": "6985962b-2e42-408e-90ee-fb57ee61af01"
      },
      "execution_count": 35,
      "outputs": [
        {
          "output_type": "stream",
          "name": "stdout",
          "text": [
            "Any NaN values among the data? True\n"
          ]
        }
      ]
    },
    {
      "cell_type": "markdown",
      "source": [
        "# Check the columns where the NaN values are and how many."
      ],
      "metadata": {
        "id": "OD0TjNSI4cG1"
      }
    },
    {
      "cell_type": "code",
      "source": [
        "df_acw_customer_records.isna().sum()"
      ],
      "metadata": {
        "colab": {
          "base_uri": "https://localhost:8080/",
          "height": 805
        },
        "id": "CMe6dsKC4TZV",
        "outputId": "9f3da3ea-c9f0-4ff4-db7f-9546f6afb341"
      },
      "execution_count": 36,
      "outputs": [
        {
          "output_type": "execute_result",
          "data": {
            "text/plain": [
              "Address Street                      0\n",
              "Address City                        0\n",
              "Address Postcode                    0\n",
              "Age (Years)                         0\n",
              "Distance Commuted to Work (Km)      0\n",
              "Employer Company                  246\n",
              "Credit Card Start Date              0\n",
              "Credit Card Expiry Date             0\n",
              "Credit Card Number                  0\n",
              "Credit Card CVV                     0\n",
              "Dependants                         19\n",
              "First Name                          0\n",
              "Bank IBAN                           0\n",
              "Last Name                           0\n",
              "Marital Status                      0\n",
              "Yearly Pension (Dollar)             0\n",
              "Retired                             0\n",
              "Yearly Salary (Dollar)              0\n",
              "Sex                                 0\n",
              "Vehicle Make                        0\n",
              "Vehicle Model                       0\n",
              "Vehicle Year                        0\n",
              "Vehicle Type                        0\n",
              "dtype: int64"
            ],
            "text/html": [
              "<div>\n",
              "<style scoped>\n",
              "    .dataframe tbody tr th:only-of-type {\n",
              "        vertical-align: middle;\n",
              "    }\n",
              "\n",
              "    .dataframe tbody tr th {\n",
              "        vertical-align: top;\n",
              "    }\n",
              "\n",
              "    .dataframe thead th {\n",
              "        text-align: right;\n",
              "    }\n",
              "</style>\n",
              "<table border=\"1\" class=\"dataframe\">\n",
              "  <thead>\n",
              "    <tr style=\"text-align: right;\">\n",
              "      <th></th>\n",
              "      <th>0</th>\n",
              "    </tr>\n",
              "  </thead>\n",
              "  <tbody>\n",
              "    <tr>\n",
              "      <th>Address Street</th>\n",
              "      <td>0</td>\n",
              "    </tr>\n",
              "    <tr>\n",
              "      <th>Address City</th>\n",
              "      <td>0</td>\n",
              "    </tr>\n",
              "    <tr>\n",
              "      <th>Address Postcode</th>\n",
              "      <td>0</td>\n",
              "    </tr>\n",
              "    <tr>\n",
              "      <th>Age (Years)</th>\n",
              "      <td>0</td>\n",
              "    </tr>\n",
              "    <tr>\n",
              "      <th>Distance Commuted to Work (Km)</th>\n",
              "      <td>0</td>\n",
              "    </tr>\n",
              "    <tr>\n",
              "      <th>Employer Company</th>\n",
              "      <td>246</td>\n",
              "    </tr>\n",
              "    <tr>\n",
              "      <th>Credit Card Start Date</th>\n",
              "      <td>0</td>\n",
              "    </tr>\n",
              "    <tr>\n",
              "      <th>Credit Card Expiry Date</th>\n",
              "      <td>0</td>\n",
              "    </tr>\n",
              "    <tr>\n",
              "      <th>Credit Card Number</th>\n",
              "      <td>0</td>\n",
              "    </tr>\n",
              "    <tr>\n",
              "      <th>Credit Card CVV</th>\n",
              "      <td>0</td>\n",
              "    </tr>\n",
              "    <tr>\n",
              "      <th>Dependants</th>\n",
              "      <td>19</td>\n",
              "    </tr>\n",
              "    <tr>\n",
              "      <th>First Name</th>\n",
              "      <td>0</td>\n",
              "    </tr>\n",
              "    <tr>\n",
              "      <th>Bank IBAN</th>\n",
              "      <td>0</td>\n",
              "    </tr>\n",
              "    <tr>\n",
              "      <th>Last Name</th>\n",
              "      <td>0</td>\n",
              "    </tr>\n",
              "    <tr>\n",
              "      <th>Marital Status</th>\n",
              "      <td>0</td>\n",
              "    </tr>\n",
              "    <tr>\n",
              "      <th>Yearly Pension (Dollar)</th>\n",
              "      <td>0</td>\n",
              "    </tr>\n",
              "    <tr>\n",
              "      <th>Retired</th>\n",
              "      <td>0</td>\n",
              "    </tr>\n",
              "    <tr>\n",
              "      <th>Yearly Salary (Dollar)</th>\n",
              "      <td>0</td>\n",
              "    </tr>\n",
              "    <tr>\n",
              "      <th>Sex</th>\n",
              "      <td>0</td>\n",
              "    </tr>\n",
              "    <tr>\n",
              "      <th>Vehicle Make</th>\n",
              "      <td>0</td>\n",
              "    </tr>\n",
              "    <tr>\n",
              "      <th>Vehicle Model</th>\n",
              "      <td>0</td>\n",
              "    </tr>\n",
              "    <tr>\n",
              "      <th>Vehicle Year</th>\n",
              "      <td>0</td>\n",
              "    </tr>\n",
              "    <tr>\n",
              "      <th>Vehicle Type</th>\n",
              "      <td>0</td>\n",
              "    </tr>\n",
              "  </tbody>\n",
              "</table>\n",
              "</div><br><label><b>dtype:</b> int64</label>"
            ]
          },
          "metadata": {},
          "execution_count": 36
        }
      ]
    },
    {
      "cell_type": "markdown",
      "source": [
        "> There are Nan values in `Employer Company` and `Dependants` columns and this will be handled later"
      ],
      "metadata": {
        "id": "fOE4yahk4B0F"
      }
    },
    {
      "cell_type": "markdown",
      "source": [
        "### Check the datatypes of each column for easy manipulation later.\n"
      ],
      "metadata": {
        "id": "4Z_5cS9A5I_Q"
      }
    },
    {
      "cell_type": "code",
      "source": [
        "# data types\n",
        "df_acw_customer_records.info()"
      ],
      "metadata": {
        "colab": {
          "base_uri": "https://localhost:8080/"
        },
        "id": "BPpu62h65Scn",
        "outputId": "31fc2236-8ddb-42ac-9416-e047fc19a8f6"
      },
      "execution_count": 37,
      "outputs": [
        {
          "output_type": "stream",
          "name": "stdout",
          "text": [
            "<class 'pandas.core.frame.DataFrame'>\n",
            "RangeIndex: 1000 entries, 0 to 999\n",
            "Data columns (total 23 columns):\n",
            " #   Column                          Non-Null Count  Dtype  \n",
            "---  ------                          --------------  -----  \n",
            " 0   Address Street                  1000 non-null   object \n",
            " 1   Address City                    1000 non-null   object \n",
            " 2   Address Postcode                1000 non-null   object \n",
            " 3   Age (Years)                     1000 non-null   int64  \n",
            " 4   Distance Commuted to Work (Km)  1000 non-null   float64\n",
            " 5   Employer Company                754 non-null    object \n",
            " 6   Credit Card Start Date          1000 non-null   object \n",
            " 7   Credit Card Expiry Date         1000 non-null   object \n",
            " 8   Credit Card Number              1000 non-null   int64  \n",
            " 9   Credit Card CVV                 1000 non-null   int64  \n",
            " 10  Dependants                      981 non-null    float64\n",
            " 11  First Name                      1000 non-null   object \n",
            " 12  Bank IBAN                       1000 non-null   object \n",
            " 13  Last Name                       1000 non-null   object \n",
            " 14  Marital Status                  1000 non-null   object \n",
            " 15  Yearly Pension (Dollar)         1000 non-null   int64  \n",
            " 16  Retired                         1000 non-null   bool   \n",
            " 17  Yearly Salary (Dollar)          1000 non-null   int64  \n",
            " 18  Sex                             1000 non-null   object \n",
            " 19  Vehicle Make                    1000 non-null   object \n",
            " 20  Vehicle Model                   1000 non-null   object \n",
            " 21  Vehicle Year                    1000 non-null   int64  \n",
            " 22  Vehicle Type                    1000 non-null   object \n",
            "dtypes: bool(1), float64(2), int64(6), object(14)\n",
            "memory usage: 173.0+ KB\n"
          ]
        }
      ]
    },
    {
      "cell_type": "markdown",
      "source": [
        "### Check for a quick insight into the customers data"
      ],
      "metadata": {
        "id": "WVhh79v75c96"
      }
    },
    {
      "cell_type": "code",
      "source": [
        "df_acw_customer_records.describe()"
      ],
      "metadata": {
        "colab": {
          "base_uri": "https://localhost:8080/",
          "height": 372
        },
        "id": "NDpbXBnq5gDt",
        "outputId": "24fc8bb8-4e2a-4b09-e713-49be4c7c4742"
      },
      "execution_count": 38,
      "outputs": [
        {
          "output_type": "execute_result",
          "data": {
            "text/plain": [
              "       Age (Years)  Distance Commuted to Work (Km)  Credit Card Number  \\\n",
              "count  1000.000000                     1000.000000        1.000000e+03   \n",
              "mean     54.302000                       10.457770        4.188020e+17   \n",
              "std      21.319646                        6.951997        1.304208e+18   \n",
              "min      18.000000                        0.000000        6.041600e+10   \n",
              "25%      36.000000                        5.637500        3.857314e+13   \n",
              "50%      54.000000                       12.170000        3.510666e+15   \n",
              "75%      72.000000                       16.262500        4.635909e+15   \n",
              "max      91.000000                       20.340000        4.967327e+18   \n",
              "\n",
              "       Credit Card CVV  Dependants  Yearly Pension (Dollar)  \\\n",
              "count      1000.000000  981.000000              1000.000000   \n",
              "mean        932.482000    2.135576              5875.413000   \n",
              "std        1626.125269    0.977799             10986.507761   \n",
              "min           2.000000    1.000000                 0.000000   \n",
              "25%         277.000000    1.000000                 0.000000   \n",
              "50%         559.500000    2.000000                 0.000000   \n",
              "75%         833.250000    3.000000                 0.000000   \n",
              "max        9977.000000    5.000000             46117.000000   \n",
              "\n",
              "       Yearly Salary (Dollar)  Vehicle Year  \n",
              "count             1000.000000   1000.000000  \n",
              "mean             57814.078000   2006.927000  \n",
              "std              23270.417139      8.211035  \n",
              "min              17046.000000   1992.000000  \n",
              "25%              39089.750000   2000.000000  \n",
              "50%              57518.000000   2008.000000  \n",
              "75%              77211.500000   2014.000000  \n",
              "max              98915.000000   2020.000000  "
            ],
            "text/html": [
              "\n",
              "  <div id=\"df-2090937d-9f86-4b3b-8533-8732da34f2f6\" class=\"colab-df-container\">\n",
              "    <div>\n",
              "<style scoped>\n",
              "    .dataframe tbody tr th:only-of-type {\n",
              "        vertical-align: middle;\n",
              "    }\n",
              "\n",
              "    .dataframe tbody tr th {\n",
              "        vertical-align: top;\n",
              "    }\n",
              "\n",
              "    .dataframe thead th {\n",
              "        text-align: right;\n",
              "    }\n",
              "</style>\n",
              "<table border=\"1\" class=\"dataframe\">\n",
              "  <thead>\n",
              "    <tr style=\"text-align: right;\">\n",
              "      <th></th>\n",
              "      <th>Age (Years)</th>\n",
              "      <th>Distance Commuted to Work (Km)</th>\n",
              "      <th>Credit Card Number</th>\n",
              "      <th>Credit Card CVV</th>\n",
              "      <th>Dependants</th>\n",
              "      <th>Yearly Pension (Dollar)</th>\n",
              "      <th>Yearly Salary (Dollar)</th>\n",
              "      <th>Vehicle Year</th>\n",
              "    </tr>\n",
              "  </thead>\n",
              "  <tbody>\n",
              "    <tr>\n",
              "      <th>count</th>\n",
              "      <td>1000.000000</td>\n",
              "      <td>1000.000000</td>\n",
              "      <td>1.000000e+03</td>\n",
              "      <td>1000.000000</td>\n",
              "      <td>981.000000</td>\n",
              "      <td>1000.000000</td>\n",
              "      <td>1000.000000</td>\n",
              "      <td>1000.000000</td>\n",
              "    </tr>\n",
              "    <tr>\n",
              "      <th>mean</th>\n",
              "      <td>54.302000</td>\n",
              "      <td>10.457770</td>\n",
              "      <td>4.188020e+17</td>\n",
              "      <td>932.482000</td>\n",
              "      <td>2.135576</td>\n",
              "      <td>5875.413000</td>\n",
              "      <td>57814.078000</td>\n",
              "      <td>2006.927000</td>\n",
              "    </tr>\n",
              "    <tr>\n",
              "      <th>std</th>\n",
              "      <td>21.319646</td>\n",
              "      <td>6.951997</td>\n",
              "      <td>1.304208e+18</td>\n",
              "      <td>1626.125269</td>\n",
              "      <td>0.977799</td>\n",
              "      <td>10986.507761</td>\n",
              "      <td>23270.417139</td>\n",
              "      <td>8.211035</td>\n",
              "    </tr>\n",
              "    <tr>\n",
              "      <th>min</th>\n",
              "      <td>18.000000</td>\n",
              "      <td>0.000000</td>\n",
              "      <td>6.041600e+10</td>\n",
              "      <td>2.000000</td>\n",
              "      <td>1.000000</td>\n",
              "      <td>0.000000</td>\n",
              "      <td>17046.000000</td>\n",
              "      <td>1992.000000</td>\n",
              "    </tr>\n",
              "    <tr>\n",
              "      <th>25%</th>\n",
              "      <td>36.000000</td>\n",
              "      <td>5.637500</td>\n",
              "      <td>3.857314e+13</td>\n",
              "      <td>277.000000</td>\n",
              "      <td>1.000000</td>\n",
              "      <td>0.000000</td>\n",
              "      <td>39089.750000</td>\n",
              "      <td>2000.000000</td>\n",
              "    </tr>\n",
              "    <tr>\n",
              "      <th>50%</th>\n",
              "      <td>54.000000</td>\n",
              "      <td>12.170000</td>\n",
              "      <td>3.510666e+15</td>\n",
              "      <td>559.500000</td>\n",
              "      <td>2.000000</td>\n",
              "      <td>0.000000</td>\n",
              "      <td>57518.000000</td>\n",
              "      <td>2008.000000</td>\n",
              "    </tr>\n",
              "    <tr>\n",
              "      <th>75%</th>\n",
              "      <td>72.000000</td>\n",
              "      <td>16.262500</td>\n",
              "      <td>4.635909e+15</td>\n",
              "      <td>833.250000</td>\n",
              "      <td>3.000000</td>\n",
              "      <td>0.000000</td>\n",
              "      <td>77211.500000</td>\n",
              "      <td>2014.000000</td>\n",
              "    </tr>\n",
              "    <tr>\n",
              "      <th>max</th>\n",
              "      <td>91.000000</td>\n",
              "      <td>20.340000</td>\n",
              "      <td>4.967327e+18</td>\n",
              "      <td>9977.000000</td>\n",
              "      <td>5.000000</td>\n",
              "      <td>46117.000000</td>\n",
              "      <td>98915.000000</td>\n",
              "      <td>2020.000000</td>\n",
              "    </tr>\n",
              "  </tbody>\n",
              "</table>\n",
              "</div>\n",
              "    <div class=\"colab-df-buttons\">\n",
              "\n",
              "  <div class=\"colab-df-container\">\n",
              "    <button class=\"colab-df-convert\" onclick=\"convertToInteractive('df-2090937d-9f86-4b3b-8533-8732da34f2f6')\"\n",
              "            title=\"Convert this dataframe to an interactive table.\"\n",
              "            style=\"display:none;\">\n",
              "\n",
              "  <svg xmlns=\"http://www.w3.org/2000/svg\" height=\"24px\" viewBox=\"0 -960 960 960\">\n",
              "    <path d=\"M120-120v-720h720v720H120Zm60-500h600v-160H180v160Zm220 220h160v-160H400v160Zm0 220h160v-160H400v160ZM180-400h160v-160H180v160Zm440 0h160v-160H620v160ZM180-180h160v-160H180v160Zm440 0h160v-160H620v160Z\"/>\n",
              "  </svg>\n",
              "    </button>\n",
              "\n",
              "  <style>\n",
              "    .colab-df-container {\n",
              "      display:flex;\n",
              "      gap: 12px;\n",
              "    }\n",
              "\n",
              "    .colab-df-convert {\n",
              "      background-color: #E8F0FE;\n",
              "      border: none;\n",
              "      border-radius: 50%;\n",
              "      cursor: pointer;\n",
              "      display: none;\n",
              "      fill: #1967D2;\n",
              "      height: 32px;\n",
              "      padding: 0 0 0 0;\n",
              "      width: 32px;\n",
              "    }\n",
              "\n",
              "    .colab-df-convert:hover {\n",
              "      background-color: #E2EBFA;\n",
              "      box-shadow: 0px 1px 2px rgba(60, 64, 67, 0.3), 0px 1px 3px 1px rgba(60, 64, 67, 0.15);\n",
              "      fill: #174EA6;\n",
              "    }\n",
              "\n",
              "    .colab-df-buttons div {\n",
              "      margin-bottom: 4px;\n",
              "    }\n",
              "\n",
              "    [theme=dark] .colab-df-convert {\n",
              "      background-color: #3B4455;\n",
              "      fill: #D2E3FC;\n",
              "    }\n",
              "\n",
              "    [theme=dark] .colab-df-convert:hover {\n",
              "      background-color: #434B5C;\n",
              "      box-shadow: 0px 1px 3px 1px rgba(0, 0, 0, 0.15);\n",
              "      filter: drop-shadow(0px 1px 2px rgba(0, 0, 0, 0.3));\n",
              "      fill: #FFFFFF;\n",
              "    }\n",
              "  </style>\n",
              "\n",
              "    <script>\n",
              "      const buttonEl =\n",
              "        document.querySelector('#df-2090937d-9f86-4b3b-8533-8732da34f2f6 button.colab-df-convert');\n",
              "      buttonEl.style.display =\n",
              "        google.colab.kernel.accessAllowed ? 'block' : 'none';\n",
              "\n",
              "      async function convertToInteractive(key) {\n",
              "        const element = document.querySelector('#df-2090937d-9f86-4b3b-8533-8732da34f2f6');\n",
              "        const dataTable =\n",
              "          await google.colab.kernel.invokeFunction('convertToInteractive',\n",
              "                                                    [key], {});\n",
              "        if (!dataTable) return;\n",
              "\n",
              "        const docLinkHtml = 'Like what you see? Visit the ' +\n",
              "          '<a target=\"_blank\" href=https://colab.research.google.com/notebooks/data_table.ipynb>data table notebook</a>'\n",
              "          + ' to learn more about interactive tables.';\n",
              "        element.innerHTML = '';\n",
              "        dataTable['output_type'] = 'display_data';\n",
              "        await google.colab.output.renderOutput(dataTable, element);\n",
              "        const docLink = document.createElement('div');\n",
              "        docLink.innerHTML = docLinkHtml;\n",
              "        element.appendChild(docLink);\n",
              "      }\n",
              "    </script>\n",
              "  </div>\n",
              "\n",
              "\n",
              "    <div id=\"df-c04885ca-5801-4e27-bb98-1e61f2a0c8f7\">\n",
              "      <button class=\"colab-df-quickchart\" onclick=\"quickchart('df-c04885ca-5801-4e27-bb98-1e61f2a0c8f7')\"\n",
              "                title=\"Suggest charts\"\n",
              "                style=\"display:none;\">\n",
              "\n",
              "<svg xmlns=\"http://www.w3.org/2000/svg\" height=\"24px\"viewBox=\"0 0 24 24\"\n",
              "     width=\"24px\">\n",
              "    <g>\n",
              "        <path d=\"M19 3H5c-1.1 0-2 .9-2 2v14c0 1.1.9 2 2 2h14c1.1 0 2-.9 2-2V5c0-1.1-.9-2-2-2zM9 17H7v-7h2v7zm4 0h-2V7h2v10zm4 0h-2v-4h2v4z\"/>\n",
              "    </g>\n",
              "</svg>\n",
              "      </button>\n",
              "\n",
              "<style>\n",
              "  .colab-df-quickchart {\n",
              "      --bg-color: #E8F0FE;\n",
              "      --fill-color: #1967D2;\n",
              "      --hover-bg-color: #E2EBFA;\n",
              "      --hover-fill-color: #174EA6;\n",
              "      --disabled-fill-color: #AAA;\n",
              "      --disabled-bg-color: #DDD;\n",
              "  }\n",
              "\n",
              "  [theme=dark] .colab-df-quickchart {\n",
              "      --bg-color: #3B4455;\n",
              "      --fill-color: #D2E3FC;\n",
              "      --hover-bg-color: #434B5C;\n",
              "      --hover-fill-color: #FFFFFF;\n",
              "      --disabled-bg-color: #3B4455;\n",
              "      --disabled-fill-color: #666;\n",
              "  }\n",
              "\n",
              "  .colab-df-quickchart {\n",
              "    background-color: var(--bg-color);\n",
              "    border: none;\n",
              "    border-radius: 50%;\n",
              "    cursor: pointer;\n",
              "    display: none;\n",
              "    fill: var(--fill-color);\n",
              "    height: 32px;\n",
              "    padding: 0;\n",
              "    width: 32px;\n",
              "  }\n",
              "\n",
              "  .colab-df-quickchart:hover {\n",
              "    background-color: var(--hover-bg-color);\n",
              "    box-shadow: 0 1px 2px rgba(60, 64, 67, 0.3), 0 1px 3px 1px rgba(60, 64, 67, 0.15);\n",
              "    fill: var(--button-hover-fill-color);\n",
              "  }\n",
              "\n",
              "  .colab-df-quickchart-complete:disabled,\n",
              "  .colab-df-quickchart-complete:disabled:hover {\n",
              "    background-color: var(--disabled-bg-color);\n",
              "    fill: var(--disabled-fill-color);\n",
              "    box-shadow: none;\n",
              "  }\n",
              "\n",
              "  .colab-df-spinner {\n",
              "    border: 2px solid var(--fill-color);\n",
              "    border-color: transparent;\n",
              "    border-bottom-color: var(--fill-color);\n",
              "    animation:\n",
              "      spin 1s steps(1) infinite;\n",
              "  }\n",
              "\n",
              "  @keyframes spin {\n",
              "    0% {\n",
              "      border-color: transparent;\n",
              "      border-bottom-color: var(--fill-color);\n",
              "      border-left-color: var(--fill-color);\n",
              "    }\n",
              "    20% {\n",
              "      border-color: transparent;\n",
              "      border-left-color: var(--fill-color);\n",
              "      border-top-color: var(--fill-color);\n",
              "    }\n",
              "    30% {\n",
              "      border-color: transparent;\n",
              "      border-left-color: var(--fill-color);\n",
              "      border-top-color: var(--fill-color);\n",
              "      border-right-color: var(--fill-color);\n",
              "    }\n",
              "    40% {\n",
              "      border-color: transparent;\n",
              "      border-right-color: var(--fill-color);\n",
              "      border-top-color: var(--fill-color);\n",
              "    }\n",
              "    60% {\n",
              "      border-color: transparent;\n",
              "      border-right-color: var(--fill-color);\n",
              "    }\n",
              "    80% {\n",
              "      border-color: transparent;\n",
              "      border-right-color: var(--fill-color);\n",
              "      border-bottom-color: var(--fill-color);\n",
              "    }\n",
              "    90% {\n",
              "      border-color: transparent;\n",
              "      border-bottom-color: var(--fill-color);\n",
              "    }\n",
              "  }\n",
              "</style>\n",
              "\n",
              "      <script>\n",
              "        async function quickchart(key) {\n",
              "          const quickchartButtonEl =\n",
              "            document.querySelector('#' + key + ' button');\n",
              "          quickchartButtonEl.disabled = true;  // To prevent multiple clicks.\n",
              "          quickchartButtonEl.classList.add('colab-df-spinner');\n",
              "          try {\n",
              "            const charts = await google.colab.kernel.invokeFunction(\n",
              "                'suggestCharts', [key], {});\n",
              "          } catch (error) {\n",
              "            console.error('Error during call to suggestCharts:', error);\n",
              "          }\n",
              "          quickchartButtonEl.classList.remove('colab-df-spinner');\n",
              "          quickchartButtonEl.classList.add('colab-df-quickchart-complete');\n",
              "        }\n",
              "        (() => {\n",
              "          let quickchartButtonEl =\n",
              "            document.querySelector('#df-c04885ca-5801-4e27-bb98-1e61f2a0c8f7 button');\n",
              "          quickchartButtonEl.style.display =\n",
              "            google.colab.kernel.accessAllowed ? 'block' : 'none';\n",
              "        })();\n",
              "      </script>\n",
              "    </div>\n",
              "\n",
              "    </div>\n",
              "  </div>\n"
            ],
            "application/vnd.google.colaboratory.intrinsic+json": {
              "type": "dataframe",
              "summary": "{\n  \"name\": \"df_acw_customer_records\",\n  \"rows\": 8,\n  \"fields\": [\n    {\n      \"column\": \"Age (Years)\",\n      \"properties\": {\n        \"dtype\": \"number\",\n        \"std\": 336.946477776653,\n        \"min\": 18.0,\n        \"max\": 1000.0,\n        \"num_unique_values\": 8,\n        \"samples\": [\n          54.302,\n          54.0,\n          1000.0\n        ],\n        \"semantic_type\": \"\",\n        \"description\": \"\"\n      }\n    },\n    {\n      \"column\": \"Distance Commuted to Work (Km)\",\n      \"properties\": {\n        \"dtype\": \"number\",\n        \"std\": 349.9828706609916,\n        \"min\": 0.0,\n        \"max\": 1000.0,\n        \"num_unique_values\": 8,\n        \"samples\": [\n          10.45777,\n          12.17,\n          1000.0\n        ],\n        \"semantic_type\": \"\",\n        \"description\": \"\"\n      }\n    },\n    {\n      \"column\": \"Credit Card Number\",\n      \"properties\": {\n        \"dtype\": \"number\",\n        \"std\": 1.7296553335783708e+18,\n        \"min\": 1000.0,\n        \"max\": 4.967327318388659e+18,\n        \"num_unique_values\": 8,\n        \"samples\": [\n          4.188019970069389e+17,\n          3510666019437702.0,\n          1000.0\n        ],\n        \"semantic_type\": \"\",\n        \"description\": \"\"\n      }\n    },\n    {\n      \"column\": \"Credit Card CVV\",\n      \"properties\": {\n        \"dtype\": \"number\",\n        \"std\": 3300.0097293182894,\n        \"min\": 2.0,\n        \"max\": 9977.0,\n        \"num_unique_values\": 8,\n        \"samples\": [\n          932.482,\n          559.5,\n          1000.0\n        ],\n        \"semantic_type\": \"\",\n        \"description\": \"\"\n      }\n    },\n    {\n      \"column\": \"Dependants\",\n      \"properties\": {\n        \"dtype\": \"number\",\n        \"std\": 346.07519515148664,\n        \"min\": 0.9777986519041487,\n        \"max\": 981.0,\n        \"num_unique_values\": 7,\n        \"samples\": [\n          981.0,\n          2.1355759429153927,\n          3.0\n        ],\n        \"semantic_type\": \"\",\n        \"description\": \"\"\n      }\n    },\n    {\n      \"column\": \"Yearly Pension (Dollar)\",\n      \"properties\": {\n        \"dtype\": \"number\",\n        \"std\": 15907.49478340168,\n        \"min\": 0.0,\n        \"max\": 46117.0,\n        \"num_unique_values\": 5,\n        \"samples\": [\n          5875.413,\n          46117.0,\n          10986.507761396284\n        ],\n        \"semantic_type\": \"\",\n        \"description\": \"\"\n      }\n    },\n    {\n      \"column\": \"Yearly Salary (Dollar)\",\n      \"properties\": {\n        \"dtype\": \"number\",\n        \"std\": 32672.059483993515,\n        \"min\": 1000.0,\n        \"max\": 98915.0,\n        \"num_unique_values\": 8,\n        \"samples\": [\n          57814.078,\n          57518.0,\n          1000.0\n        ],\n        \"semantic_type\": \"\",\n        \"description\": \"\"\n      }\n    },\n    {\n      \"column\": \"Vehicle Year\",\n      \"properties\": {\n        \"dtype\": \"number\",\n        \"std\": 744.4602045481873,\n        \"min\": 8.211034775964112,\n        \"max\": 2020.0,\n        \"num_unique_values\": 8,\n        \"samples\": [\n          2006.927,\n          2008.0,\n          1000.0\n        ],\n        \"semantic_type\": \"\",\n        \"description\": \"\"\n      }\n    }\n  ]\n}"
            }
          },
          "metadata": {},
          "execution_count": 38
        }
      ]
    },
    {
      "cell_type": "markdown",
      "source": [
        "> Now that I have a basic view and idea of what the `df_acw_customer_records` looks like and where to fix when needed, I will move to completing the other tasks.\n",
        "\n",
        "---"
      ],
      "metadata": {
        "id": "Y42bi3-d5zVh"
      }
    },
    {
      "cell_type": "markdown",
      "source": [
        "<a name=\"task-1a-mean-salary\"></a>\n",
        "## 📈 Task 1a - Calculate mean salary\n",
        "\n",
        "In this first step, I extract the **Salary** and **Age** columns and calculate:\n",
        "- The **mean salary** of all customers\n",
        "- (In the next part, I’ll also compute the **median age**)\n",
        "\n",
        "This helps establish a basic statistical overview before visualizing the patterns.\n"
      ],
      "metadata": {
        "id": "XKaYDY2g4p2W"
      }
    },
    {
      "cell_type": "code",
      "source": [
        "# Get salary and convert to numeric\n",
        "salary_series = pd.to_numeric(df_acw_customer_records[\"Yearly Salary (Dollar)\"], errors='coerce')\n",
        "\n",
        "# Calculate mean salary\n",
        "mean_salary = salary_series.mean()\n",
        "\n",
        "print(f\"💰 Mean Salary: ${mean_salary:,.2f}\")\n"
      ],
      "metadata": {
        "colab": {
          "base_uri": "https://localhost:8080/"
        },
        "id": "jYLdlEwM0YQp",
        "outputId": "bdb2d6a8-77fd-4495-8d10-bb9eb4dacb56"
      },
      "execution_count": 39,
      "outputs": [
        {
          "output_type": "stream",
          "name": "stdout",
          "text": [
            "💰 Mean Salary: $57,814.08\n"
          ]
        }
      ]
    },
    {
      "cell_type": "markdown",
      "source": [
        "<a name=\"task-1b-median-age\"></a>\n",
        "## 📈 Task 1b – Median Age\n",
        "\n",
        "After calculating the mean salary, I now want to calculate the **median age** of all customers.\n",
        "\n",
        "This gives me an idea of the typical customer’s age (not just the average) and helps identify whether the age distribution is skewed.\n",
        "\n",
        "\n"
      ],
      "metadata": {
        "id": "7xJWJs8z3twg"
      }
    },
    {
      "cell_type": "code",
      "source": [
        "# Calculate the median age\n",
        "age_series = pd.to_numeric(df_acw_customer_records[\"Age (Years)\"], errors='coerce')\n",
        "median_age = age_series.median()\n",
        "\n",
        "print(f\"👥 Median Age: {median_age:.0f} years\")\n"
      ],
      "metadata": {
        "colab": {
          "base_uri": "https://localhost:8080/"
        },
        "id": "dJDIAYfg38eW",
        "outputId": "e58f8851-6874-4761-ee5e-a3372e6bd9f6"
      },
      "execution_count": 40,
      "outputs": [
        {
          "output_type": "stream",
          "name": "stdout",
          "text": [
            "👥 Median Age: 54 years\n"
          ]
        }
      ]
    },
    {
      "cell_type": "markdown",
      "source": [
        "<a name=\"task-2-age-distribution-bin-width-5\"></a>\n",
        "## 📊 Task 2 – Univariate Plots\n",
        "\n",
        "In this task, I created several univariate visualizations using Seaborn to explore the distribution of customer data.\n",
        "\n",
        "Here’s what I focused on:\n",
        "- **2a**: Age distribution using a custom bin width\n",
        "- **2b**: Dependants count, while handling missing or incorrect values\n",
        "- **2c**: Age distribution, grouped by Marital Status\n",
        "\n"
      ],
      "metadata": {
        "id": "ux9z6yH75zrh"
      }
    },
    {
      "cell_type": "code",
      "source": [
        "# Apply a nice visual style across all charts\n",
        "sns.set_theme(style=\"whitegrid\")"
      ],
      "metadata": {
        "id": "1VGUb-rc7nzM"
      },
      "execution_count": 41,
      "outputs": []
    },
    {
      "cell_type": "code",
      "source": [
        "# Store each plot as a figure object for saving later\n",
        "plot_figures = {}"
      ],
      "metadata": {
        "id": "_nWKoWZQAFU7"
      },
      "execution_count": 42,
      "outputs": []
    },
    {
      "cell_type": "markdown",
      "source": [
        "<a name=\"task-2a-age-distribution-bin-width-5\"></a>\n",
        "## 📈 2a – Age Histogram with Bin Width 5\n",
        "\n",
        "\n"
      ],
      "metadata": {
        "id": "iOkMs7yI52Bg"
      }
    },
    {
      "cell_type": "code",
      "source": [
        "fontsize = 14"
      ],
      "metadata": {
        "id": "-usNBlJC8_55"
      },
      "execution_count": 43,
      "outputs": []
    },
    {
      "cell_type": "code",
      "source": [
        "# Calculate number of bins using bin_width = 5\n",
        "bin_width = 5\n",
        "min_age = int(age_series.min())\n",
        "max_age = int(age_series.max())\n",
        "num_bins = (max_age - min_age) // bin_width\n",
        "\n",
        "# Plot\n",
        "fig1 = plt.figure()\n",
        "sns.histplot(data=df_acw_customer_records, x=\"Age (Years)\", bins=num_bins, color=\"skyblue\")\n",
        "plt.title(\"Age Distribution\", fontsize=fontsize, fontweight='bold')\n",
        "plt.xlabel(\"Age\")\n",
        "plt.ylabel(\"Customer Count\")\n",
        "plt.tight_layout()\n",
        "plot_figures[\"2a_age_distribution.png\"] = fig1\n",
        "plt.show()\n"
      ],
      "metadata": {
        "colab": {
          "base_uri": "https://localhost:8080/",
          "height": 481
        },
        "id": "TYQk70Ko51i7",
        "outputId": "72b13ffe-6184-4d04-d177-444d9f75952a"
      },
      "execution_count": 44,
      "outputs": [
        {
          "output_type": "display_data",
          "data": {
            "text/plain": [
              "<Figure size 640x480 with 1 Axes>"
            ],
            "image/png": "[encoded data removed]"
          },
          "metadata": {}
        }
      ]
    },
    {
      "cell_type": "markdown",
      "source": [
        "> From the histogram, the age range spans from around 18 to 90, with fairly even distribution across most age brackets. Slight peaks occur in the 45–50 and 85–90 ranges, which may indicate clusters of working professionals and retired customers respectively.\n",
        "\n",
        "This aligns with our earlier findings where several high-income, 0-commute customers like Stephanie Butler and Sian Hayes were aged above 85 and marked as retired."
      ],
      "metadata": {
        "id": "sWHVadmG9Gg6"
      }
    },
    {
      "cell_type": "markdown",
      "source": [
        "<a name=\"task-2b-dependants-distribution\"></a>\n",
        "## 📈 2b. Dependants Distribution with Seaborn\n"
      ],
      "metadata": {
        "id": "EyJZJudr8qDk"
      }
    },
    {
      "cell_type": "markdown",
      "source": [
        " - Fix dependants before plotting"
      ],
      "metadata": {
        "id": "hOFh0_gfzprP"
      }
    },
    {
      "cell_type": "code",
      "source": [
        "df_acw_customer_records.info()"
      ],
      "metadata": {
        "colab": {
          "base_uri": "https://localhost:8080/"
        },
        "id": "yDCOtweW04Vz",
        "outputId": "d9d5b535-8672-4700-ddb3-d029cd4dfc00"
      },
      "execution_count": 45,
      "outputs": [
        {
          "output_type": "stream",
          "name": "stdout",
          "text": [
            "<class 'pandas.core.frame.DataFrame'>\n",
            "RangeIndex: 1000 entries, 0 to 999\n",
            "Data columns (total 23 columns):\n",
            " #   Column                          Non-Null Count  Dtype  \n",
            "---  ------                          --------------  -----  \n",
            " 0   Address Street                  1000 non-null   object \n",
            " 1   Address City                    1000 non-null   object \n",
            " 2   Address Postcode                1000 non-null   object \n",
            " 3   Age (Years)                     1000 non-null   int64  \n",
            " 4   Distance Commuted to Work (Km)  1000 non-null   float64\n",
            " 5   Employer Company                754 non-null    object \n",
            " 6   Credit Card Start Date          1000 non-null   object \n",
            " 7   Credit Card Expiry Date         1000 non-null   object \n",
            " 8   Credit Card Number              1000 non-null   int64  \n",
            " 9   Credit Card CVV                 1000 non-null   int64  \n",
            " 10  Dependants                      981 non-null    float64\n",
            " 11  First Name                      1000 non-null   object \n",
            " 12  Bank IBAN                       1000 non-null   object \n",
            " 13  Last Name                       1000 non-null   object \n",
            " 14  Marital Status                  1000 non-null   object \n",
            " 15  Yearly Pension (Dollar)         1000 non-null   int64  \n",
            " 16  Retired                         1000 non-null   bool   \n",
            " 17  Yearly Salary (Dollar)          1000 non-null   int64  \n",
            " 18  Sex                             1000 non-null   object \n",
            " 19  Vehicle Make                    1000 non-null   object \n",
            " 20  Vehicle Model                   1000 non-null   object \n",
            " 21  Vehicle Year                    1000 non-null   int64  \n",
            " 22  Vehicle Type                    1000 non-null   object \n",
            "dtypes: bool(1), float64(2), int64(6), object(14)\n",
            "memory usage: 173.0+ KB\n"
          ]
        }
      ]
    },
    {
      "cell_type": "markdown",
      "source": [
        "- From the above we can see that there are some NaN values in the `Dependants` column"
      ],
      "metadata": {
        "id": "oSxahXKh1RXf"
      }
    },
    {
      "cell_type": "markdown",
      "source": [
        "###  Fix dependants before plotting"
      ],
      "metadata": {
        "id": "A6_XYQJr8EUV"
      }
    },
    {
      "cell_type": "code",
      "source": [
        "# fill nan with 0 and convert the dependant column to numeric\n",
        "df_acw_customer_records[\"Dependants\"] = df_acw_customer_records[\"Dependants\"].fillna(0)\n"
      ],
      "metadata": {
        "id": "murXC2Kbznap"
      },
      "execution_count": 46,
      "outputs": []
    },
    {
      "cell_type": "markdown",
      "source": [
        "- Check to make sure there are no more NaN in the dependants column"
      ],
      "metadata": {
        "id": "5lXNV09g8Oj1"
      }
    },
    {
      "cell_type": "code",
      "source": [
        "# check the depenants column have no more NaN\n",
        "df_acw_customer_records.info()"
      ],
      "metadata": {
        "colab": {
          "base_uri": "https://localhost:8080/"
        },
        "id": "pS960HhS8knz",
        "outputId": "354b84d1-5c85-4b00-ccc9-f039bb3c2dd1"
      },
      "execution_count": 47,
      "outputs": [
        {
          "output_type": "stream",
          "name": "stdout",
          "text": [
            "<class 'pandas.core.frame.DataFrame'>\n",
            "RangeIndex: 1000 entries, 0 to 999\n",
            "Data columns (total 23 columns):\n",
            " #   Column                          Non-Null Count  Dtype  \n",
            "---  ------                          --------------  -----  \n",
            " 0   Address Street                  1000 non-null   object \n",
            " 1   Address City                    1000 non-null   object \n",
            " 2   Address Postcode                1000 non-null   object \n",
            " 3   Age (Years)                     1000 non-null   int64  \n",
            " 4   Distance Commuted to Work (Km)  1000 non-null   float64\n",
            " 5   Employer Company                754 non-null    object \n",
            " 6   Credit Card Start Date          1000 non-null   object \n",
            " 7   Credit Card Expiry Date         1000 non-null   object \n",
            " 8   Credit Card Number              1000 non-null   int64  \n",
            " 9   Credit Card CVV                 1000 non-null   int64  \n",
            " 10  Dependants                      1000 non-null   float64\n",
            " 11  First Name                      1000 non-null   object \n",
            " 12  Bank IBAN                       1000 non-null   object \n",
            " 13  Last Name                       1000 non-null   object \n",
            " 14  Marital Status                  1000 non-null   object \n",
            " 15  Yearly Pension (Dollar)         1000 non-null   int64  \n",
            " 16  Retired                         1000 non-null   bool   \n",
            " 17  Yearly Salary (Dollar)          1000 non-null   int64  \n",
            " 18  Sex                             1000 non-null   object \n",
            " 19  Vehicle Make                    1000 non-null   object \n",
            " 20  Vehicle Model                   1000 non-null   object \n",
            " 21  Vehicle Year                    1000 non-null   int64  \n",
            " 22  Vehicle Type                    1000 non-null   object \n",
            "dtypes: bool(1), float64(2), int64(6), object(14)\n",
            "memory usage: 173.0+ KB\n"
          ]
        }
      ]
    },
    {
      "cell_type": "markdown",
      "source": [
        "> This shows that there are no more NaN"
      ],
      "metadata": {
        "id": "tutVvV8O8w5O"
      }
    },
    {
      "cell_type": "code",
      "source": [
        "df_acw_customer_records[\"Dependants\"] = pd.to_numeric(df_acw_customer_records[\"Dependants\"], errors=\"coerce\")\n",
        "\n",
        "# Plot\n",
        "fig2 = plt.figure()\n",
        "sns.histplot(data=df_acw_customer_records, x=\"Dependants\", discrete=True, color=\"salmon\")\n",
        "plt.title(\"Distribution of Dependants\", fontsize=fontsize, fontweight='bold')\n",
        "plt.xlabel(\"Number of Dependants\")\n",
        "plt.ylabel(\"Customer Count\")\n",
        "plt.tight_layout()\n",
        "plot_figures[\"2b_dependants_distribution.png\"] = fig2\n",
        "plt.show()\n"
      ],
      "metadata": {
        "colab": {
          "base_uri": "https://localhost:8080/",
          "height": 481
        },
        "id": "xCdGyIlW8r4b",
        "outputId": "31646a2e-af35-4f81-91e0-f57d6482f93e"
      },
      "execution_count": 48,
      "outputs": [
        {
          "output_type": "display_data",
          "data": {
            "text/plain": [
              "<Figure size 640x480 with 1 Axes>"
            ],
            "image/png": "[encoded data removed]"
          },
          "metadata": {}
        }
      ]
    },
    {
      "cell_type": "markdown",
      "source": [
        "> The spike at 2 dependants could indicate typical family structures (e.g., 2 children). There are a few cases with 0 dependants, which may correspond to single individuals like Graeme Jackson, who also had a low Salary-Commute score and was unmarried.\n",
        "\n",
        "📌 Why it matters: Number of dependants may influence both salary needs and commuting tolerance. This can help businesses target family-focused services or discounts."
      ],
      "metadata": {
        "id": "GDBmJfSq5eZ7"
      }
    },
    {
      "cell_type": "markdown",
      "source": [
        "<a name=\"task-2c-age-by-marital-status\"></a>\n",
        "## 📈 2c. Age by Marital Status (Seaborn stacked style)"
      ],
      "metadata": {
        "id": "0UKp4EV38vBj"
      }
    },
    {
      "cell_type": "code",
      "source": [
        "figc = plt.figure()\n",
        "sns.histplot(data=df_acw_customer_records, x=\"Age (Years)\", hue=\"Marital Status\", multiple=\"stack\", bins=10)\n",
        "plt.title(\"Age Distribution by Marital Status\", fontsize=fontsize, fontweight='bold')\n",
        "plt.xlabel(\"Age\")\n",
        "plt.ylabel(\"Customer Count\")\n",
        "plt.tight_layout()\n",
        "plot_figures[\"2c_age_by_marital_status.png\"] = figc\n",
        "plt.show()"
      ],
      "metadata": {
        "colab": {
          "base_uri": "https://localhost:8080/",
          "height": 481
        },
        "id": "tEy6u7xa80e9",
        "outputId": "6e24f934-a9dd-416a-cb80-8edf3cb48ee3"
      },
      "execution_count": 49,
      "outputs": [
        {
          "output_type": "display_data",
          "data": {
            "text/plain": [
              "<Figure size 640x480 with 1 Axes>"
            ],
            "image/png": "[encoded data removed]"
          },
          "metadata": {}
        }
      ]
    },
    {
      "cell_type": "markdown",
      "source": [
        "> This plot shows a clear trend: married or civil partners tend to fall in older age ranges (e.g. 35+), while younger customers are more likely to be single.\n",
        "\n",
        "It’s also interesting to note that the ‘divorced’ category appears across a wider age range, which could be relevant in socio-demographic targeting.\n"
      ],
      "metadata": {
        "id": "nNeZppOw9RyL"
      }
    },
    {
      "cell_type": "markdown",
      "source": [
        "## 📊  Task 3 – Multivariate Plots\n",
        "\n",
        "In this section, I’m visualizing how key variables relate to each other. These plots can help uncover trends or correlations that would be hard to see by looking at single features alone.\n",
        "\n",
        "The relationships I explored are:\n",
        "- a. Commute Distance vs Salary\n",
        "- b. Age vs Salary\n",
        "- c. Age vs Salary, conditioned on Number of Dependants\n"
      ],
      "metadata": {
        "id": "tyfViLWo9iFW"
      }
    },
    {
      "cell_type": "markdown",
      "source": [
        "<a name=\"task-3a-commute-vs-salary\"></a>\n",
        "### 📈 3a. Commute Distance vs Salary"
      ],
      "metadata": {
        "id": "HUZePL8p-POf"
      }
    },
    {
      "cell_type": "code",
      "source": [
        "# Ensure columns are numeric\n",
        "df_acw_customer_records[\"Distance Commuted to Work (Km)\"] = pd.to_numeric(df_acw_customer_records[\"Distance Commuted to Work (Km)\"], errors=\"coerce\")\n",
        "df_acw_customer_records[\"Yearly Salary (Dollar)\"] = pd.to_numeric(df_acw_customer_records[\"Yearly Salary (Dollar)\"], errors=\"coerce\")\n",
        "\n",
        "# 📈 Scatter plot of commute vs salary\n",
        "fig3 = plt.figure()\n",
        "sns.scatterplot(data=df_acw_customer_records, x=\"Distance Commuted to Work (Km)\", y=\"Yearly Salary (Dollar)\", color=\"teal\")\n",
        "plt.title(\"Commute Distance vs Salary\", fontsize=fontsize, fontweight=\"bold\")\n",
        "plt.xlabel(\"Commute Distance (Km)\")\n",
        "plt.ylabel(\"Salary ($)\")\n",
        "plt.tight_layout()\n",
        "plot_figures[\"3a_commute_vs_salary.png\"] = fig3\n",
        "plt.show()\n"
      ],
      "metadata": {
        "colab": {
          "base_uri": "https://localhost:8080/",
          "height": 481
        },
        "id": "yVnNALwO9huE",
        "outputId": "844f8fa3-e657-4bce-b84b-1b31e3d57e3a"
      },
      "execution_count": 50,
      "outputs": [
        {
          "output_type": "display_data",
          "data": {
            "text/plain": [
              "<Figure size 640x480 with 1 Axes>"
            ],
            "image/png": "[encoded data removed]"
          },
          "metadata": {}
        }
      ]
    },
    {
      "cell_type": "markdown",
      "source": [
        "> For customers who do commute, there's a clear upward trend: salary increases with commute distance — possibly reflecting higher-paying urban roles or executive jobs. However, we also saw customers like Graeme Jackson, who travels over 5 km but earns far less per km. This explains why his Salary-Commute score was the lowest in our data.\n",
        "\n",
        "📌 Why it matters: This visual reinforces the effectiveness of the Salary-Commute metric. It reveals the inefficiencies in income vs travel, helping identify underserved commuters."
      ],
      "metadata": {
        "id": "1L7dFzQj551l"
      }
    },
    {
      "cell_type": "markdown",
      "source": [
        "<a name=\"task-3b-age-vs-salary\"></a>\n",
        "### 📈 3b. Age vs Salary\n"
      ],
      "metadata": {
        "id": "TOf-xQnD-Cgm"
      }
    },
    {
      "cell_type": "code",
      "source": [
        "# 📈 Scatter plot of age vs salary\n",
        "fig4 = plt.figure()\n",
        "sns.scatterplot(data=df_acw_customer_records, x=\"Age (Years)\", y=\"Yearly Salary (Dollar)\", color=\"royalblue\")\n",
        "plt.title(\"Age vs Salary\", fontsize=fontsize, fontweight=\"bold\")\n",
        "plt.xlabel(\"Age\")\n",
        "plt.ylabel(\"Salary ($)\")\n",
        "plt.tight_layout()\n",
        "plot_figures[\"3b_age_vs_salary.png\"] = fig4\n",
        "plt.show()\n"
      ],
      "metadata": {
        "colab": {
          "base_uri": "https://localhost:8080/",
          "height": 481
        },
        "id": "A0Qc3_Mu-FpI",
        "outputId": "579dd3aa-0e66-4036-8dca-6b20b760ab9a"
      },
      "execution_count": 51,
      "outputs": [
        {
          "output_type": "display_data",
          "data": {
            "text/plain": [
              "<Figure size 640x480 with 1 Axes>"
            ],
            "image/png": "[encoded data removed]"
          },
          "metadata": {}
        }
      ]
    },
    {
      "cell_type": "markdown",
      "source": [
        "> There is a visible cluster of customers between ages 25 and 55 earning mid-level salaries. A few outliers earn significantly more, but overall there is no strong linear correlation. This may indicate a salary plateau after a certain age range.\n"
      ],
      "metadata": {
        "id": "BJegODYM-UN4"
      }
    },
    {
      "cell_type": "markdown",
      "source": [
        "<a name=\"task-3c-age-vs-salary-by-dependants\"></a>\n",
        "### 📈 3c. Age vs Salary – Conditioned on Dependants"
      ],
      "metadata": {
        "id": "2jwd2NkP-aTJ"
      }
    },
    {
      "cell_type": "code",
      "source": [
        "# Convert dependants for grouping\n",
        "df_acw_customer_records[\"Dependants\"] = pd.to_numeric(df_acw_customer_records[\"Dependants\"], errors=\"coerce\")\n",
        "\n",
        "# 📈 Use Seaborn hue to group by number of dependants\n",
        "fig5 = plt.figure()\n",
        "sns.scatterplot(data=df_acw_customer_records, x=\"Age (Years)\", y=\"Yearly Salary (Dollar)\", hue=\"Dependants\", palette=\"viridis\")\n",
        "plt.title(\"Age vs Salary (Conditioned by Dependants)\", fontsize=fontsize, fontweight=\"bold\")\n",
        "plt.xlabel(\"Age\")\n",
        "plt.ylabel(\"Salary ($)\")\n",
        "plt.legend(title=\"Dependants\", bbox_to_anchor=(1.05, 1), loc='upper left')\n",
        "plt.tight_layout()\n",
        "plot_figures[\"3c_age_salary_dependants.png\"] = fig5\n",
        "plt.show()\n"
      ],
      "metadata": {
        "colab": {
          "base_uri": "https://localhost:8080/",
          "height": 481
        },
        "id": "KbyTxFbP-dA6",
        "outputId": "2a5d7ff1-2612-45fc-efdd-920d3cc25cbe"
      },
      "execution_count": 52,
      "outputs": [
        {
          "output_type": "display_data",
          "data": {
            "text/plain": [
              "<Figure size 640x480 with 1 Axes>"
            ],
            "image/png": "[encoded data removed]"
          },
          "metadata": {}
        }
      ]
    },
    {
      "cell_type": "markdown",
      "source": [
        "> Customers with more dependants tend to appear in the middle to older age ranges, which is expected. Interestingly, higher earners often have 2–3 dependants, while those with 0 dependants are spread across the salary spectrum. This could help with financial planning segmentation.\n"
      ],
      "metadata": {
        "id": "tg598Bjy-jPl"
      }
    },
    {
      "cell_type": "markdown",
      "source": [
        "<a name=\"save-all-plots\"></a>\n",
        "## 💾 Save All Plots for Submission\n",
        "\n",
        "As requested by the client, I’ve saved all my plots as PNG files using `plt.savefig()` before displaying them. This cell regenerates the key visualizations from Tasks 2 and 3 and stores them in the working directory for submission.\n"
      ],
      "metadata": {
        "id": "eie1mAzJ-1SY"
      }
    },
    {
      "cell_type": "code",
      "source": [
        "# Save all plots from the dictionary\n",
        "for filename, fig in plot_figures.items():\n",
        "    fig.savefig(filename, dpi=300)\n",
        "    print(f\"✅ Saved {filename}\")\n",
        "\n",
        "# Close all plots to keep notebook clean\n",
        "plt.close(\"all\")\n"
      ],
      "metadata": {
        "colab": {
          "base_uri": "https://localhost:8080/"
        },
        "id": "5bj9OOqX-k9f",
        "outputId": "c5864b51-802d-4248-a7c0-39f58b711ab8"
      },
      "execution_count": 53,
      "outputs": [
        {
          "output_type": "stream",
          "name": "stdout",
          "text": [
            "✅ Saved 2a_age_distribution.png\n",
            "✅ Saved 2b_dependants_distribution.png\n",
            "✅ Saved 2c_age_by_marital_status.png\n",
            "✅ Saved 3a_commute_vs_salary.png\n",
            "✅ Saved 3b_age_vs_salary.png\n",
            "✅ Saved 3c_age_salary_dependants.png\n"
          ]
        }
      ]
    },
    {
      "cell_type": "markdown",
      "source": [
        "<a name=\"conclusion--reflection\"></a>\n",
        "## 🕸️ Conclusion & Reflection\n",
        "\n",
        "This coursework allowed me to work through a full data pipeline — from cleaning and restructuring raw CSV files, to enriching the dataset with custom metrics and exploring patterns through visualizations.\n",
        "\n",
        "### 🔧 Data Processing Insights:\n",
        "- I successfully transformed a flat CSV into a well-structured JSON format with nested objects like `vehicle`, `credit_card`, and `address`.\n",
        "- I handled edge cases such as missing values in the `Dependants` field and filtered out potentially problematic records (e.g., credit cards with >10-year gaps).\n",
        "- I also created useful subsets (`retired.json`, `employed.json`) and derived a custom metric: **Salary-Commute**, which highlights income efficiency.\n",
        "\n",
        "### 📊 Data Visualization Insights:\n",
        "- Most customers earn between $30,000–$70,000 and commute fewer than 30 km.\n",
        "- The age distribution shows peaks around 30s and 50s, likely representing early-career and late-career professionals.\n",
        "- Customers with more dependants often fall into the mid-age ranges and tend to earn more on average — possibly due to seniority or career progression.\n",
        "- There was no strong linear correlation between age and salary or commute and salary, suggesting more complex factors influence income.\n",
        "\n",
        "### 💡 Reflection:\n",
        "Overall, this assignment helped me deepen my understanding of:\n",
        "- Real-world data inconsistencies\n",
        "- Structuring and validating JSON formats\n",
        "- Deriving business-relevant metrics\n",
        "- Using visual tools like Seaborn to tell meaningful data stories\n",
        "\n",
        "The experience has improved both my **Python coding** and **data interpretation** skills, and I look forward to applying these concepts in future AI and Data Science projects.\n",
        "\n",
        "---\n"
      ],
      "metadata": {
        "id": "eG8T6zrMCIDg"
      }
    },
    {
      "cell_type": "markdown",
      "source": [
        "<p align=\"center\">\n",
        "  <img src=\"https://res.cloudinary.com/dhqdentd8/image/upload/v1752880345/closing_image_yjg6dq.jpg\n",
        "\" width=\"100%\" alt=\"Closing Image\"/>\n",
        "</p>\n",
        "\n",
        "---"
      ],
      "metadata": {
        "id": "ocpIast51Czw"
      }
    }
  ]
}